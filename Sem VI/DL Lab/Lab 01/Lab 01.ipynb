{
 "cells": [
  {
   "cell_type": "markdown",
   "id": "00ff87e3-f041-4e3e-b166-597cfd08e203",
   "metadata": {},
   "source": [
    "### Examples"
   ]
  },
  {
   "cell_type": "code",
   "execution_count": 1,
   "id": "c23f59d5-5fb6-4872-9cc2-7a20e39fd25e",
   "metadata": {},
   "outputs": [],
   "source": [
    "import torch"
   ]
  },
  {
   "cell_type": "code",
   "execution_count": 3,
   "id": "9025583e-342b-49eb-b7f5-f40bbcb3ffc0",
   "metadata": {},
   "outputs": [
    {
     "data": {
      "text/plain": [
       "tensor(7)"
      ]
     },
     "execution_count": 3,
     "metadata": {},
     "output_type": "execute_result"
    }
   ],
   "source": [
    "#Scalar\n",
    "scalar = torch.tensor(7)\n",
    "scalar"
   ]
  },
  {
   "cell_type": "code",
   "execution_count": 6,
   "id": "6059e170-2fa1-489a-97d4-34300ba2fc2a",
   "metadata": {},
   "outputs": [
    {
     "data": {
      "text/plain": [
       "tensor([7, 7])"
      ]
     },
     "execution_count": 6,
     "metadata": {},
     "output_type": "execute_result"
    }
   ],
   "source": [
    "#vector\n",
    "vector = torch.tensor([7, 7])\n",
    "vector"
   ]
  },
  {
   "cell_type": "code",
   "execution_count": 9,
   "id": "0ca2045e-b208-4c93-88da-962553435932",
   "metadata": {},
   "outputs": [
    {
     "data": {
      "text/plain": [
       "tensor([[ 7,  8],\n",
       "        [ 9, 10]])"
      ]
     },
     "execution_count": 9,
     "metadata": {},
     "output_type": "execute_result"
    }
   ],
   "source": [
    "#matrix\n",
    "matrix = torch.tensor([[7, 8],\n",
    "                     [9, 10]])\n",
    "matrix"
   ]
  },
  {
   "cell_type": "code",
   "execution_count": 10,
   "id": "4d4d040f-f062-4784-8274-a21efb11d3cc",
   "metadata": {},
   "outputs": [
    {
     "data": {
      "text/plain": [
       "torch.Size([2, 2])"
      ]
     },
     "execution_count": 10,
     "metadata": {},
     "output_type": "execute_result"
    }
   ],
   "source": [
    "matrix.shape"
   ]
  },
  {
   "cell_type": "code",
   "execution_count": 11,
   "id": "cd3917b8-1674-4fe4-88cb-1cefcac3de82",
   "metadata": {},
   "outputs": [
    {
     "data": {
      "text/plain": [
       "tensor([[1, 2, 3],\n",
       "        [3, 6, 9],\n",
       "        [2, 4, 5]])"
      ]
     },
     "execution_count": 11,
     "metadata": {},
     "output_type": "execute_result"
    }
   ],
   "source": [
    "#tensor\n",
    "tensor = torch.tensor([[1, 2, 3],\n",
    "                      [3, 6, 9], \n",
    "                      [2, 4, 5]])\n",
    "tensor"
   ]
  },
  {
   "cell_type": "code",
   "execution_count": 12,
   "id": "45f3765a-4109-4288-b24b-2d94786c3ae7",
   "metadata": {},
   "outputs": [
    {
     "data": {
      "text/plain": [
       "2"
      ]
     },
     "execution_count": 12,
     "metadata": {},
     "output_type": "execute_result"
    }
   ],
   "source": [
    "tensor.ndim"
   ]
  },
  {
   "cell_type": "markdown",
   "id": "ac339357-4a96-45cf-b4f2-34f45b5a2798",
   "metadata": {},
   "source": [
    "# Lab Exercises"
   ]
  },
  {
   "cell_type": "markdown",
   "id": "0c0142b5-5283-49d1-a5f6-482bc981688e",
   "metadata": {},
   "source": [
    "## Q1\n",
    "Reshaping, viewing, stacking, squeezing and unsqueezing"
   ]
  },
  {
   "cell_type": "code",
   "execution_count": 16,
   "id": "114bc6d1-2737-41be-8766-a466341f7bb1",
   "metadata": {},
   "outputs": [],
   "source": [
    "t = torch.tensor([\n",
    "    [1, 1, 1, 1],\n",
    "    [2, 2, 2, 2],\n",
    "    [3, 3, 3, 3],\n",
    "    [4, 4, 4, 4]\n",
    "])"
   ]
  },
  {
   "cell_type": "code",
   "execution_count": 22,
   "id": "4219fed5-63d4-4124-8ae8-11a31d4aed35",
   "metadata": {},
   "outputs": [
    {
     "data": {
      "text/plain": [
       "tensor([[1, 1, 1, 1],\n",
       "        [2, 2, 2, 2],\n",
       "        [3, 3, 3, 3],\n",
       "        [4, 4, 4, 4]])"
      ]
     },
     "execution_count": 22,
     "metadata": {},
     "output_type": "execute_result"
    }
   ],
   "source": [
    "t"
   ]
  },
  {
   "cell_type": "code",
   "execution_count": 18,
   "id": "6acb272a-6315-4aa1-b83b-30eadf06ca0b",
   "metadata": {},
   "outputs": [
    {
     "data": {
      "text/plain": [
       "tensor([[1, 1, 1, 1, 2, 2, 2, 2],\n",
       "        [3, 3, 3, 3, 4, 4, 4, 4]])"
      ]
     },
     "execution_count": 18,
     "metadata": {},
     "output_type": "execute_result"
    }
   ],
   "source": [
    "t.reshape([2, 8])"
   ]
  },
  {
   "cell_type": "code",
   "execution_count": 38,
   "id": "d7a5b3ee-2f29-450d-9fa9-e0de385bcefb",
   "metadata": {},
   "outputs": [
    {
     "name": "stdout",
     "output_type": "stream",
     "text": [
      "tensor([ 1.,  3.,  6., 10.])\n",
      "tensor([ 2.,  7.,  9., 13.])\n",
      "stacked\n",
      " tensor([[ 1.,  3.,  6., 10.],\n",
      "        [ 2.,  7.,  9., 13.]])\n"
     ]
    }
   ],
   "source": [
    "x = torch.tensor([1.,3.,6.,10.]) \n",
    "y = torch.tensor([2.,7.,9.,13.]) \n",
    "stacked = torch.stack((x, y))\n",
    "print(x)\n",
    "print(y)\n",
    "print(\"stacked\\n\", stacked)"
   ]
  },
  {
   "cell_type": "code",
   "execution_count": 36,
   "id": "a54d2dc1-3749-4eb2-9b99-33ecfbed100e",
   "metadata": {},
   "outputs": [
    {
     "name": "stdout",
     "output_type": "stream",
     "text": [
      "tensor([[1, 1, 1, 1, 2, 2, 2, 2, 3, 3, 3, 3, 4, 4, 4, 4]])\n",
      "squeezed tensor([1, 1, 1, 1, 2, 2, 2, 2, 3, 3, 3, 3, 4, 4, 4, 4])\n",
      "unsqueezed tensor([[1, 1, 1, 1, 2, 2, 2, 2, 3, 3, 3, 3, 4, 4, 4, 4]])\n"
     ]
    }
   ],
   "source": [
    "s = t.reshape([1, 16])\n",
    "squeezed = s.squeeze()\n",
    "unsqueezed = squeezed.unsqueeze(dim=0)\n",
    "print(s)\n",
    "print(\"squeezed\", squeezed)\n",
    "print(\"unsqueezed\", unsqueezed)"
   ]
  },
  {
   "cell_type": "markdown",
   "id": "1521945f-83e1-46a4-a8ee-00f45d80898b",
   "metadata": {},
   "source": [
    "## Q2\n",
    "torch.permute()"
   ]
  },
  {
   "cell_type": "code",
   "execution_count": 49,
   "id": "0241b4c5-e592-4656-84dc-68db281618a9",
   "metadata": {},
   "outputs": [
    {
     "name": "stdout",
     "output_type": "stream",
     "text": [
      "torch.Size([1, 3])\n",
      "torch.Size([3, 1])\n",
      "tensor([[5],\n",
      "        [6],\n",
      "        [7]])\n"
     ]
    }
   ],
   "source": [
    "a = torch.tensor([[5, 6, 7]])\n",
    "b = a.permute(1, 0)\n",
    "\n",
    "print(a.shape)\n",
    "print(b.shape)\n",
    "print(b)"
   ]
  },
  {
   "cell_type": "markdown",
   "id": "52adfdf6-8fa4-477d-a0e2-2ad9a7f5b222",
   "metadata": {},
   "source": [
    "## Q3\n",
    "indexing in tensor"
   ]
  },
  {
   "cell_type": "code",
   "execution_count": 53,
   "id": "ad2f491b-08d1-466f-9e25-62797d4f6441",
   "metadata": {},
   "outputs": [
    {
     "data": {
      "text/plain": [
       "tensor([4, 5, 6])"
      ]
     },
     "execution_count": 53,
     "metadata": {},
     "output_type": "execute_result"
    }
   ],
   "source": [
    "a = torch.tensor([[1, 2, 3],\n",
    "                 [4, 5, 6]])\n",
    "a[1]"
   ]
  },
  {
   "cell_type": "markdown",
   "id": "96d619f0-c712-4ad2-a1b0-68bb03eb422a",
   "metadata": {},
   "source": [
    "## Q4\n",
    "numpy and tensors"
   ]
  },
  {
   "cell_type": "code",
   "execution_count": 54,
   "id": "d1747e15-a138-4162-81ae-b905f281a7aa",
   "metadata": {},
   "outputs": [],
   "source": [
    "import numpy as np"
   ]
  },
  {
   "cell_type": "code",
   "execution_count": 58,
   "id": "354fbafb-1005-4a8f-ad0a-f9718b478ea0",
   "metadata": {},
   "outputs": [
    {
     "name": "stdout",
     "output_type": "stream",
     "text": [
      "tensor([[1, 2],\n",
      "        [3, 4]])\n",
      "[[1 2]\n",
      " [3 4]]\n"
     ]
    }
   ],
   "source": [
    "arr = np.array([[1, 2], [3, 4]])\n",
    "\n",
    "t = torch.tensor(arr)\n",
    "print(t)\n",
    "\n",
    "a = t.numpy()\n",
    "print(a)"
   ]
  },
  {
   "cell_type": "markdown",
   "id": "2eee1863-1401-4822-9f23-5fab1875de66",
   "metadata": {},
   "source": [
    "## Q5\n",
    "random tensor "
   ]
  },
  {
   "cell_type": "code",
   "execution_count": 60,
   "id": "50fa8046-fc81-45ae-82bb-11d7e2aec385",
   "metadata": {},
   "outputs": [
    {
     "data": {
      "text/plain": [
       "tensor([[0.2977, 0.8290, 0.8176, 0.3719, 0.4697, 0.4676, 0.4562],\n",
       "        [0.6065, 0.0112, 0.3375, 0.6600, 0.0913, 0.1518, 0.4250],\n",
       "        [0.9787, 0.1673, 0.4076, 0.4896, 0.3007, 0.5319, 0.9900],\n",
       "        [0.8114, 0.0118, 0.4341, 0.6175, 0.9526, 0.1924, 0.7718],\n",
       "        [0.0709, 0.0941, 0.8192, 0.1068, 0.3738, 0.1545, 0.2061],\n",
       "        [0.9250, 0.1661, 0.6106, 0.7411, 0.5783, 0.2993, 0.6325],\n",
       "        [0.9404, 0.1152, 0.6112, 0.4994, 0.5913, 0.4231, 0.1299]])"
      ]
     },
     "execution_count": 60,
     "metadata": {},
     "output_type": "execute_result"
    }
   ],
   "source": [
    "t = torch.rand(7, 7)\n",
    "t"
   ]
  },
  {
   "cell_type": "markdown",
   "id": "d2f51d74-ea51-4ddd-a3c5-7f1f11431aa1",
   "metadata": {},
   "source": [
    "## Q6\n",
    "tensor multiplication"
   ]
  },
  {
   "cell_type": "code",
   "execution_count": 69,
   "id": "20d70dcb-fa6e-4649-b72f-701e1d0129f2",
   "metadata": {},
   "outputs": [
    {
     "name": "stdout",
     "output_type": "stream",
     "text": [
      "tensor([[2.7007]])\n"
     ]
    }
   ],
   "source": [
    "a = torch.rand(1, 7)\n",
    "b = torch.transpose(a, 0, 1)\n",
    "c = torch.matmul(a, b)\n",
    "print(c)"
   ]
  },
  {
   "cell_type": "markdown",
   "id": "626338f3-eb2c-4c22-ac86-4817918eba79",
   "metadata": {},
   "source": [
    "## Q7\n",
    "tensor on GPU"
   ]
  },
  {
   "cell_type": "code",
   "execution_count": 72,
   "id": "8326ae31-f6de-481c-be04-c9d8e9bac4c9",
   "metadata": {},
   "outputs": [
    {
     "name": "stdout",
     "output_type": "stream",
     "text": [
      "tensor([[0.2904, 0.0405, 0.6589],\n",
      "        [0.9622, 0.6015, 0.9529]], device='cuda:0')\n",
      "tensor([[0.3873, 0.0206, 0.6762],\n",
      "        [0.4905, 0.7650, 0.0666]], device='cuda:0')\n"
     ]
    }
   ],
   "source": [
    "a = torch.rand(2, 3).cuda()\n",
    "b = torch.rand(2, 3).cuda()\n",
    "\n",
    "print(a)\n",
    "print(b)"
   ]
  },
  {
   "cell_type": "markdown",
   "id": "3f25800b-d874-4d0f-8299-a1fff9d3366f",
   "metadata": {},
   "source": [
    "## Q8\n",
    "matmul"
   ]
  },
  {
   "cell_type": "code",
   "execution_count": 75,
   "id": "96e3bc96-97ec-4e47-a6f9-f89be0906d2a",
   "metadata": {},
   "outputs": [
    {
     "name": "stdout",
     "output_type": "stream",
     "text": [
      "tensor([[0.6439, 0.0697],\n",
      "        [1.5083, 0.3783]], device='cuda:0')\n"
     ]
    }
   ],
   "source": [
    "b = b.reshape([3, 2])\n",
    "c = torch.matmul(a, b)\n",
    "\n",
    "print(c)"
   ]
  },
  {
   "cell_type": "markdown",
   "id": "1ed5d698-96a3-4530-850f-e023d8168b35",
   "metadata": {},
   "source": [
    "## Q9\n",
    "max no of values of Q7"
   ]
  },
  {
   "cell_type": "code",
   "execution_count": 78,
   "id": "1c042d5a-e52e-471d-b9fc-dee549095fbd",
   "metadata": {},
   "outputs": [
    {
     "name": "stdout",
     "output_type": "stream",
     "text": [
      "max tensor(0.9622, device='cuda:0')\n",
      "min tensor(0.0405, device='cuda:0')\n"
     ]
    }
   ],
   "source": [
    "maxi = a.max()\n",
    "mini = a.min()\n",
    "\n",
    "print(\"max\", maxi)\n",
    "print(\"min\", mini)"
   ]
  },
  {
   "cell_type": "markdown",
   "id": "63257608-cf5a-4686-b824-74b12cf3173d",
   "metadata": {},
   "source": [
    "## Q10\n",
    "indices of max and min values"
   ]
  },
  {
   "cell_type": "code",
   "execution_count": 82,
   "id": "bf29d28a-66df-400a-bde0-5ba53a68c468",
   "metadata": {},
   "outputs": [
    {
     "name": "stdout",
     "output_type": "stream",
     "text": [
      "max tensor(3, device='cuda:0')\n",
      "min tensor(1, device='cuda:0')\n"
     ]
    }
   ],
   "source": [
    "maxi = a.argmax()\n",
    "mini = a.argmin()\n",
    "\n",
    "print(\"max\", maxi)\n",
    "print(\"min\", mini)"
   ]
  },
  {
   "cell_type": "code",
   "execution_count": null,
   "id": "56a3e9e2-6640-4069-8cc3-8ad0bb98b224",
   "metadata": {},
   "outputs": [],
   "source": []
  }
 ],
 "metadata": {
  "kernelspec": {
   "display_name": "myenv",
   "language": "python",
   "name": "myenv"
  },
  "language_info": {
   "codemirror_mode": {
    "name": "ipython",
    "version": 3
   },
   "file_extension": ".py",
   "mimetype": "text/x-python",
   "name": "python",
   "nbconvert_exporter": "python",
   "pygments_lexer": "ipython3",
   "version": "3.12.3"
  }
 },
 "nbformat": 4,
 "nbformat_minor": 5
}
