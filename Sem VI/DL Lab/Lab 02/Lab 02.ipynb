{
 "cells": [
  {
   "cell_type": "markdown",
   "id": "0c659f66",
   "metadata": {},
   "source": [
    "## Lab 02: Computation Graphs"
   ]
  },
  {
   "cell_type": "markdown",
   "id": "4470f1bc",
   "metadata": {},
   "source": [
    "### Q1"
   ]
  },
  {
   "cell_type": "code",
   "execution_count": 2,
   "id": "106cf598",
   "metadata": {},
   "outputs": [],
   "source": [
    "import torch"
   ]
  },
  {
   "cell_type": "code",
   "execution_count": 24,
   "id": "8d47ca6a",
   "metadata": {},
   "outputs": [
    {
     "name": "stdout",
     "output_type": "stream",
     "text": [
      "torch gradient:  154.0\n",
      "manual gradient:  154.0\n"
     ]
    }
   ],
   "source": [
    "def calc_grad(a, b, x, y, z):\n",
    "    dzdx = 2; dzdy=3; dxda=2; dxdb=3; dyda=10*a; dydb=9*b*b\n",
    "    dzda = dzdx*dxda + dzdy*dyda\n",
    "    return dzda.item()\n",
    "\n",
    "a = torch.tensor(5.0, requires_grad=True)\n",
    "b = torch.tensor(6.0, requires_grad=True)\n",
    "\n",
    "x = 2*a + 3*b\n",
    "y = 5*a*a + 3*b*b*b\n",
    "z = 2*x + 3*y\n",
    "\n",
    "z.backward()\n",
    "print(\"torch gradient: \", a.grad.item())\n",
    "print(\"manual gradient: \", calc_grad(a, b, x, y, z))\n"
   ]
  },
  {
   "cell_type": "markdown",
   "id": "8b8b5e60",
   "metadata": {},
   "source": [
    "## Q2"
   ]
  },
  {
   "cell_type": "code",
   "execution_count": 28,
   "id": "7aa582f1",
   "metadata": {},
   "outputs": [
    {
     "name": "stdout",
     "output_type": "stream",
     "text": [
      "torch gradient:  6.0\n",
      "manual gradient:  6.0\n"
     ]
    }
   ],
   "source": [
    "def relu(a):\n",
    "    return max(0, a)\n",
    "\n",
    "def calc_grad(b, x, w, u, v, a):\n",
    "    dadv = 1 if a>0 else 0\n",
    "    dvdu = 1\n",
    "    dudw = x\n",
    "    \n",
    "    dadw = dadv*dvdu*dudw\n",
    "    return dadw.item()\n",
    "\n",
    "b = torch.tensor(5.0, requires_grad=True)\n",
    "x = torch.tensor(6.0, requires_grad=True)\n",
    "w = torch.tensor(7.0, requires_grad=True)\n",
    "\n",
    "u = w*x\n",
    "v = u+b\n",
    "a = relu(v)\n",
    "\n",
    "a.backward()\n",
    "print(\"torch gradient: \", w.grad.item())\n",
    "print(\"manual gradient: \", calc_grad(b, x, w, u, v, a))"
   ]
  },
  {
   "cell_type": "markdown",
   "id": "4e0b020a",
   "metadata": {},
   "source": [
    "## Q3"
   ]
  },
  {
   "cell_type": "code",
   "execution_count": 33,
   "id": "6a5421db",
   "metadata": {},
   "outputs": [
    {
     "name": "stdout",
     "output_type": "stream",
     "text": [
      "torch gradient:  0.015847910195589066\n",
      "manual gradient:  0.015847913920879364\n"
     ]
    }
   ],
   "source": [
    "def sigmoid(a):\n",
    "    return 1.0/(1.0+torch.exp(-1*a));\n",
    "\n",
    "def calc_grad(b, x, w, u, v, a):\n",
    "    dadv = a*(1-a)\n",
    "    dvdu = 1\n",
    "    dudw = x\n",
    "    \n",
    "    dadw = dadv*dvdu*dudw\n",
    "    return dadw.item()\n",
    "\n",
    "b = torch.tensor(0.03, requires_grad=True)\n",
    "x = torch.tensor(1.01, requires_grad=True)\n",
    "w = torch.tensor(4.052, requires_grad=True)\n",
    "\n",
    "u = w*x\n",
    "v = u+b\n",
    "a = sigmoid(v)\n",
    "\n",
    "a.backward()\n",
    "print(\"torch gradient: \", w.grad.item())\n",
    "print(\"manual gradient: \", calc_grad(b, x, w, u, v, a))"
   ]
  },
  {
   "cell_type": "markdown",
   "id": "6b0832f7",
   "metadata": {},
   "source": [
    "## Q4"
   ]
  },
  {
   "cell_type": "code",
   "execution_count": 45,
   "id": "3b90d8bf",
   "metadata": {},
   "outputs": [
    {
     "name": "stdout",
     "output_type": "stream",
     "text": [
      "torch gradient:  -1.2668628692626953\n",
      "manual gradient:  -1.2668628692626953\n"
     ]
    }
   ],
   "source": [
    "def calc_grad(x, a, b, c, d, e):\n",
    "    dedd = e; \n",
    "    dddc=1; dcdx=-2*x;\n",
    "    dddb=1; dbdx=-2;\n",
    "    ddda=-1; dadx=torch.cos(x)\n",
    "    \n",
    "    dedx = dedd*dddc*dcdx + dedd*dddb*dbdx + dedd*ddda*dadx\n",
    "    return dedx.item()\n",
    "\n",
    "\n",
    "x = torch.tensor(0.315, requires_grad=True)\n",
    "\n",
    "a = torch.sin(x)\n",
    "b = -2*x\n",
    "c = -1*x**2\n",
    "d = c+b-a\n",
    "e = torch.exp(d)\n",
    "\n",
    "e.backward()\n",
    "print(\"torch gradient: \", x.grad.item())\n",
    "print(\"manual gradient: \", calc_grad(x, a, b, c, d, e))"
   ]
  },
  {
   "cell_type": "markdown",
   "id": "fcbbe991",
   "metadata": {},
   "source": [
    "## Q5"
   ]
  },
  {
   "cell_type": "code",
   "execution_count": 51,
   "id": "2c71512a",
   "metadata": {},
   "outputs": [
    {
     "name": "stdout",
     "output_type": "stream",
     "text": [
      "torch gradient:  476347.25\n",
      "manual gradient:  476347.25\n"
     ]
    }
   ],
   "source": [
    "def calc_grad(x, y):\n",
    "    dydx = 32*x**3 + 9*x**2 + 14*x + 6\n",
    "    return dydx.item()\n",
    "\n",
    "x = torch.tensor(24.5, requires_grad=True)\n",
    "y = 8*x**4 + 3*x**3 + 7*x**2 + 6*x + 3\n",
    "\n",
    "y.backward()\n",
    "print(\"torch gradient: \", x.grad.item())\n",
    "print(\"manual gradient: \", calc_grad(x, y))"
   ]
  },
  {
   "cell_type": "markdown",
   "id": "a10de0a4",
   "metadata": {},
   "source": [
    "## Q6"
   ]
  },
  {
   "cell_type": "code",
   "execution_count": 61,
   "id": "37a819db",
   "metadata": {},
   "outputs": [
    {
     "name": "stdout",
     "output_type": "stream",
     "text": [
      "torch gradient:  -0.005758530460298061\n",
      "manual gradient:  -0.005758530460298061\n"
     ]
    }
   ],
   "source": [
    "def calc_grad(x, y, z, a, b, c, d, e, f):\n",
    "    dfde = 1-torch.tanh(e)**2\n",
    "    dedd = 1/(d+1); dddc = z\n",
    "    dcdb = -1*a/b**2\n",
    "    dbdy = torch.cos(y)\n",
    "    dfdy = dfde*dedd*dddc*dcdb*dbdy\n",
    "    return dfdy.item()\n",
    "\n",
    "x = torch.tensor(2.6, requires_grad=True)\n",
    "y = torch.tensor(6.5, requires_grad=True)\n",
    "z = torch.tensor(2.26, requires_grad=True)\n",
    "\n",
    "a = 2*x\n",
    "b = torch.sin(y)\n",
    "c = a/b\n",
    "d = z*c\n",
    "e = torch.log(d+1)\n",
    "f = torch.tanh(e)\n",
    "\n",
    "f.backward()\n",
    "print(\"torch gradient: \", y.grad.item())\n",
    "print(\"manual gradient: \", calc_grad(x, y, z, a, b, c, d, e, f))"
   ]
  },
  {
   "cell_type": "code",
   "execution_count": null,
   "id": "78ceb925",
   "metadata": {},
   "outputs": [],
   "source": []
  }
 ],
 "metadata": {
  "kernelspec": {
   "display_name": "myenv",
   "language": "python",
   "name": "myenv"
  },
  "language_info": {
   "codemirror_mode": {
    "name": "ipython",
    "version": 3
   },
   "file_extension": ".py",
   "mimetype": "text/x-python",
   "name": "python",
   "nbconvert_exporter": "python",
   "pygments_lexer": "ipython3",
   "version": "3.12.3"
  }
 },
 "nbformat": 4,
 "nbformat_minor": 5
}
