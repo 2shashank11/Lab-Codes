{
 "cells": [
  {
   "cell_type": "markdown",
   "metadata": {},
   "source": [
    "# Q1"
   ]
  },
  {
   "cell_type": "code",
   "execution_count": 22,
   "metadata": {},
   "outputs": [
    {
     "name": "stdout",
     "output_type": "stream",
     "text": [
      "[1, 4, 9, 16, 25]\n"
     ]
    }
   ],
   "source": [
    "from pyspark.sql import SparkSession\n",
    "\n",
    "spark = SparkSession.builder.appName(\"SquareIntegers\").getOrCreate()\n",
    "\n",
    "numbers = [1, 2, 3, 4, 5]\n",
    "numbers_rdd = spark.sparkContext.parallelize(numbers)\n",
    "\n",
    "squared_rdd = numbers_rdd.map(lambda x: x * x)\n",
    "\n",
    "squared_numbers = squared_rdd.collect()\n",
    "print(squared_numbers)\n",
    "\n",
    "spark.stop()\n"
   ]
  },
  {
   "cell_type": "markdown",
   "metadata": {},
   "source": [
    "# Q2"
   ]
  },
  {
   "cell_type": "code",
   "execution_count": 24,
   "metadata": {},
   "outputs": [
    {
     "name": "stderr",
     "output_type": "stream",
     "text": [
      "/home/lplab/anaconda3/lib/python3.7/site-packages/pyspark/context.py:317: FutureWarning: Python 3.7 support is deprecated in Spark 3.4.\n",
      "  warnings.warn(\"Python 3.7 support is deprecated in Spark 3.4.\", FutureWarning)\n"
     ]
    },
    {
     "name": "stdout",
     "output_type": "stream",
     "text": [
      "+------+\n",
      "|number|\n",
      "+------+\n",
      "|     1|\n",
      "|     3|\n",
      "|     5|\n",
      "|     7|\n",
      "|     2|\n",
      "+------+\n",
      "\n",
      "The maximum value is: 7\n"
     ]
    }
   ],
   "source": [
    "from pyspark.sql import SparkSession\n",
    "from pyspark.sql.functions import max\n",
    "\n",
    "spark = SparkSession.builder.appName(\"FindMax\").getOrCreate()\n",
    "\n",
    "data = [(1,), (3,), (5,), (7,), (2,)]\n",
    "\n",
    "df = spark.createDataFrame(data, [\"number\"])\n",
    "\n",
    "df.show()\n",
    "\n",
    "max_value = df.select(max(\"number\")).collect()[0][0]\n",
    "\n",
    "print(f\"The maximum value is: {max_value}\")\n",
    "\n",
    "spark.stop()\n"
   ]
  },
  {
   "cell_type": "markdown",
   "metadata": {},
   "source": [
    "# Q3"
   ]
  },
  {
   "cell_type": "code",
   "execution_count": 25,
   "metadata": {},
   "outputs": [
    {
     "name": "stderr",
     "output_type": "stream",
     "text": [
      "/home/lplab/anaconda3/lib/python3.7/site-packages/pyspark/context.py:317: FutureWarning: Python 3.7 support is deprecated in Spark 3.4.\n",
      "  warnings.warn(\"Python 3.7 support is deprecated in Spark 3.4.\", FutureWarning)\n"
     ]
    },
    {
     "name": "stdout",
     "output_type": "stream",
     "text": [
      "+------+\n",
      "|number|\n",
      "+------+\n",
      "|     1|\n",
      "|     3|\n",
      "|     5|\n",
      "|     7|\n",
      "|     2|\n",
      "+------+\n",
      "\n",
      "The average value is: 3.6\n"
     ]
    }
   ],
   "source": [
    "from pyspark.sql import SparkSession\n",
    "from pyspark.sql.functions import avg\n",
    "\n",
    "spark = SparkSession.builder \\\n",
    "    .appName(\"FindAverageExample\") \\\n",
    "    .getOrCreate()\n",
    "\n",
    "data = [(1,), (3,), (5,), (7,), (2,)]\n",
    "\n",
    "df = spark.createDataFrame(data, [\"number\"])\n",
    "\n",
    "df.show()\n",
    "\n",
    "average_value = df.select(avg(\"number\")).collect()[0][0]\n",
    "\n",
    "print(f\"The average value is: {average_value}\")\n",
    "\n",
    "spark.stop()\n"
   ]
  },
  {
   "cell_type": "markdown",
   "metadata": {},
   "source": [
    "# Q4"
   ]
  },
  {
   "cell_type": "code",
   "execution_count": 26,
   "metadata": {},
   "outputs": [
    {
     "name": "stderr",
     "output_type": "stream",
     "text": [
      "/home/lplab/anaconda3/lib/python3.7/site-packages/pyspark/context.py:317: FutureWarning: Python 3.7 support is deprecated in Spark 3.4.\n",
      "  warnings.warn(\"Python 3.7 support is deprecated in Spark 3.4.\", FutureWarning)\n"
     ]
    }
   ],
   "source": [
    "\n",
    "import pyspark\n",
    "from pyspark import SparkContext\n",
    "from pyspark import SparkConf\n",
    "from pyspark.sql import SparkSession\n",
    "\n",
    "spark = SparkSession.builder.appName('Data Analysis').getOrCreate()\n",
    "df=spark.read.csv('data.csv', header=\"True\", inferSchema=\"True\")"
   ]
  },
  {
   "cell_type": "markdown",
   "metadata": {},
   "source": [
    "# Q5"
   ]
  },
  {
   "cell_type": "code",
   "execution_count": 18,
   "metadata": {},
   "outputs": [
    {
     "name": "stdout",
     "output_type": "stream",
     "text": [
      "root\n",
      " |-- id: integer (nullable = true)\n",
      " |-- name: string (nullable = true)\n",
      " |-- age: integer (nullable = true)\n",
      " |-- department: string (nullable = true)\n",
      " |-- salary: integer (nullable = true)\n",
      "\n",
      "+---+-------------+---+-----------+------+\n",
      "| id|         name|age| department|salary|\n",
      "+---+-------------+---+-----------+------+\n",
      "|  1|     John Doe| 29|Engineering| 75000|\n",
      "|  2|   Jane Smith| 34|  Marketing| 68000|\n",
      "|  3|Emily Johnson| 45|    Finance| 90000|\n",
      "|  4|Michael Brown| 28|Engineering| 72000|\n",
      "|  5|  Linda Davis| 39|         HR| 71000|\n",
      "+---+-------------+---+-----------+------+\n",
      "\n"
     ]
    }
   ],
   "source": [
    "df.printSchema()\n",
    "df.show()\n"
   ]
  },
  {
   "cell_type": "markdown",
   "metadata": {},
   "source": [
    "# Q6"
   ]
  },
  {
   "cell_type": "code",
   "execution_count": 21,
   "metadata": {
    "scrolled": false
   },
   "outputs": [
    {
     "name": "stdout",
     "output_type": "stream",
     "text": [
      "+-------+----------------+\n",
      "|summary|          salary|\n",
      "+-------+----------------+\n",
      "|  count|               5|\n",
      "|   mean|         75200.0|\n",
      "| stddev|8642.91617453276|\n",
      "|    min|           68000|\n",
      "|    25%|           71000|\n",
      "|    50%|           72000|\n",
      "|    75%|           75000|\n",
      "|    max|           90000|\n",
      "+-------+----------------+\n",
      "\n"
     ]
    }
   ],
   "source": [
    "df.select('salary').summary().show()"
   ]
  },
  {
   "cell_type": "code",
   "execution_count": null,
   "metadata": {},
   "outputs": [],
   "source": []
  },
  {
   "cell_type": "code",
   "execution_count": null,
   "metadata": {},
   "outputs": [],
   "source": []
  }
 ],
 "metadata": {
  "kernelspec": {
   "display_name": "Python 3 (ipykernel)",
   "language": "python",
   "name": "python3"
  },
  "language_info": {
   "codemirror_mode": {
    "name": "ipython",
    "version": 3
   },
   "file_extension": ".py",
   "mimetype": "text/x-python",
   "name": "python",
   "nbconvert_exporter": "python",
   "pygments_lexer": "ipython3",
   "version": "3.7.0"
  }
 },
 "nbformat": 4,
 "nbformat_minor": 2
}
