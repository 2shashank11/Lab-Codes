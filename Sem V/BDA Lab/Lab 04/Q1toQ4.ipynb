{
 "cells": [
  {
   "cell_type": "markdown",
   "metadata": {},
   "source": [
    "# Lab 04: Recommendation System using PySpark"
   ]
  },
  {
   "cell_type": "markdown",
   "metadata": {},
   "source": [
    "# Q1\n",
    "Demonstrate how to load a dataset suitable for recommendation systems into a PySpark\n",
    "DataFrame."
   ]
  },
  {
   "cell_type": "code",
   "execution_count": 1,
   "metadata": {},
   "outputs": [
    {
     "name": "stderr",
     "output_type": "stream",
     "text": [
      "/home/lplab/anaconda3/lib/python3.7/site-packages/pyspark/context.py:317: FutureWarning: Python 3.7 support is deprecated in Spark 3.4.\n",
      "  warnings.warn(\"Python 3.7 support is deprecated in Spark 3.4.\", FutureWarning)\n"
     ]
    }
   ],
   "source": [
    "from pyspark.sql import SparkSession \n",
    "from pyspark.ml.evaluation import RegressionEvaluator \n",
    "from pyspark.ml.recommendation import ALS \n",
    "\n",
    "spark = SparkSession.builder.appName('Recommender').getOrCreate() "
   ]
  },
  {
   "cell_type": "code",
   "execution_count": 2,
   "metadata": {},
   "outputs": [
    {
     "name": "stdout",
     "output_type": "stream",
     "text": [
      "+-------+-------+------+\n",
      "|book_id|user_id|rating|\n",
      "+-------+-------+------+\n",
      "|      1|    314|     5|\n",
      "|      1|    439|     3|\n",
      "|      1|    588|     5|\n",
      "|      1|   1169|     4|\n",
      "|      1|   1185|     4|\n",
      "+-------+-------+------+\n",
      "only showing top 5 rows\n",
      "\n"
     ]
    }
   ],
   "source": [
    "data = spark.read.csv('book_ratings.csv', \n",
    "                    inferSchema=True,header=True) \n",
    "\n",
    "data.show(5)"
   ]
  },
  {
   "cell_type": "code",
   "execution_count": 3,
   "metadata": {},
   "outputs": [
    {
     "name": "stdout",
     "output_type": "stream",
     "text": [
      "+-------+-----------------+------------------+------------------+\n",
      "|summary|          book_id|           user_id|            rating|\n",
      "+-------+-----------------+------------------+------------------+\n",
      "|  count|           981756|            981756|            981756|\n",
      "|   mean|4943.275635697668|25616.759933221696|3.8565335989797873|\n",
      "| stddev|2873.207414896143|15228.338825882149|0.9839408559619973|\n",
      "|    min|                1|                 1|                 1|\n",
      "|    max|            10000|             53424|                 5|\n",
      "+-------+-----------------+------------------+------------------+\n",
      "\n"
     ]
    }
   ],
   "source": [
    "data.describe().show()"
   ]
  },
  {
   "cell_type": "markdown",
   "metadata": {},
   "source": [
    "# Q2\n",
    "Implement a PySpark script that splits the data and trains a recommendation model."
   ]
  },
  {
   "cell_type": "code",
   "execution_count": 4,
   "metadata": {},
   "outputs": [],
   "source": [
    "train_data, test_data = data.randomSplit([0.8, 0.2])"
   ]
  },
  {
   "cell_type": "markdown",
   "metadata": {},
   "source": [
    "# Q3\n",
    "Implement a PySpark script using the ALS algorithm for collaborative filtering."
   ]
  },
  {
   "cell_type": "code",
   "execution_count": 5,
   "metadata": {},
   "outputs": [],
   "source": [
    "als = ALS(maxIter=5, \n",
    "        regParam=0.01, \n",
    "        userCol=\"user_id\", \n",
    "        itemCol=\"book_id\", \n",
    "        ratingCol=\"rating\") \n",
    "\n",
    "model = als.fit(train_data)"
   ]
  },
  {
   "cell_type": "markdown",
   "metadata": {},
   "source": [
    "# Q4\n",
    "Implement code to evaluate the performance of the recommendation model using\n",
    "appropriate metrics"
   ]
  },
  {
   "cell_type": "code",
   "execution_count": 6,
   "metadata": {},
   "outputs": [
    {
     "name": "stdout",
     "output_type": "stream",
     "text": [
      "+-------+-------+------+----------+\n",
      "|book_id|user_id|rating|prediction|\n",
      "+-------+-------+------+----------+\n",
      "|      1|  48482|     3| 3.8724136|\n",
      "|      1|  26629|     4| 4.5914617|\n",
      "|      2|   3922|     5|   4.89165|\n",
      "|      1|  32055|     4| 4.1461143|\n",
      "|      1|  33697|     4| 4.4002333|\n",
      "|      1|  11854|     4| 3.7051845|\n",
      "|      1|  51480|     1| 2.0448668|\n",
      "|      2|   3022|     4| 3.0778546|\n",
      "|      2|  10610|     5| 4.6511855|\n",
      "|      1|  18313|     5|  6.553751|\n",
      "|      1|  25214|     4| 4.1055894|\n",
      "|      1|  31001|     4|  5.369414|\n",
      "|      1|  50104|     5| 5.1758285|\n",
      "|      1|   5885|     5| 4.4334064|\n",
      "|      2|   5885|     4|  4.411032|\n",
      "|      1|  10335|     4| 3.8800526|\n",
      "|      1|  21713|     5|  4.197895|\n",
      "|      1|  51460|     3| 3.8316765|\n",
      "|      1|  30681|     5|  4.552037|\n",
      "|      1|  10944|     5| 4.6214848|\n",
      "+-------+-------+------+----------+\n",
      "only showing top 20 rows\n",
      "\n"
     ]
    }
   ],
   "source": [
    "predictions = model.transform(test_data) \n",
    "\n",
    "predictions.show()"
   ]
  },
  {
   "cell_type": "code",
   "execution_count": 7,
   "metadata": {},
   "outputs": [
    {
     "name": "stdout",
     "output_type": "stream",
     "text": [
      "Root-mean-square error = nan\n"
     ]
    }
   ],
   "source": [
    "evaluator = RegressionEvaluator(metricName=\"rmse\", labelCol=\"rating\",predictionCol=\"prediction\") \n",
    "rmse = evaluator.evaluate(predictions) \n",
    "print(\"Root-mean-square error = \" + str(rmse))"
   ]
  },
  {
   "cell_type": "code",
   "execution_count": 8,
   "metadata": {},
   "outputs": [
    {
     "name": "stdout",
     "output_type": "stream",
     "text": [
      "+-------+-------+\n",
      "|book_id|user_id|\n",
      "+-------+-------+\n",
      "|     46|   5461|\n",
      "|     60|   5461|\n",
      "|     65|   5461|\n",
      "|     66|   5461|\n",
      "|     72|   5461|\n",
      "|    129|   5461|\n",
      "|    142|   5461|\n",
      "|    148|   5461|\n",
      "|    194|   5461|\n",
      "|    264|   5461|\n",
      "|    386|   5461|\n",
      "|    395|   5461|\n",
      "|    416|   5461|\n",
      "|    444|   5461|\n",
      "|    478|   5461|\n",
      "|    531|   5461|\n",
      "|    588|   5461|\n",
      "|    595|   5461|\n",
      "|    639|   5461|\n",
      "|    646|   5461|\n",
      "+-------+-------+\n",
      "only showing top 20 rows\n",
      "\n"
     ]
    }
   ],
   "source": [
    "user1 = test_data.filter(test_data['user_id']==5461).select(['book_id','user_id']) \n",
    "\n",
    "user1.show()"
   ]
  },
  {
   "cell_type": "code",
   "execution_count": 9,
   "metadata": {},
   "outputs": [
    {
     "name": "stdout",
     "output_type": "stream",
     "text": [
      "+-------+-------+----------+\n",
      "|book_id|user_id|prediction|\n",
      "+-------+-------+----------+\n",
      "|    129|   5461|  5.245639|\n",
      "|    444|   5461|  4.895541|\n",
      "|     65|   5461|  4.848259|\n",
      "|   2854|   5461|  4.699825|\n",
      "|    869|   5461| 4.6996374|\n",
      "|   1597|   5461| 4.6787944|\n",
      "|   2128|   5461|  4.619902|\n",
      "|    478|   5461| 4.4679513|\n",
      "|     66|   5461| 4.4638157|\n",
      "|    142|   5461|  4.458869|\n",
      "|     72|   5461| 4.4545608|\n",
      "|    416|   5461| 4.4195013|\n",
      "|    588|   5461|  4.399512|\n",
      "|     60|   5461|  4.353798|\n",
      "|   3692|   5461|  4.306996|\n",
      "|    966|   5461| 4.2808766|\n",
      "|   1402|   5461| 4.2368226|\n",
      "|    386|   5461|  4.197394|\n",
      "|    531|   5461|  4.106376|\n",
      "|    639|   5461| 4.0107675|\n",
      "+-------+-------+----------+\n",
      "only showing top 20 rows\n",
      "\n"
     ]
    }
   ],
   "source": [
    "recommendations = model.transform(user1) \n",
    "\n",
    "recommendations.orderBy('prediction',ascending=False).show()"
   ]
  },
  {
   "cell_type": "code",
   "execution_count": 10,
   "metadata": {},
   "outputs": [],
   "source": [
    "spark.stop()\n"
   ]
  },
  {
   "cell_type": "code",
   "execution_count": null,
   "metadata": {},
   "outputs": [],
   "source": []
  }
 ],
 "metadata": {
  "kernelspec": {
   "display_name": "Python 3 (ipykernel)",
   "language": "python",
   "name": "python3"
  },
  "language_info": {
   "codemirror_mode": {
    "name": "ipython",
    "version": 3
   },
   "file_extension": ".py",
   "mimetype": "text/x-python",
   "name": "python",
   "nbconvert_exporter": "python",
   "pygments_lexer": "ipython3",
   "version": "3.7.0"
  }
 },
 "nbformat": 4,
 "nbformat_minor": 2
}
