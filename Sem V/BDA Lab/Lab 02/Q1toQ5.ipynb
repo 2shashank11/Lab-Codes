{
 "cells": [
  {
   "cell_type": "code",
   "execution_count": 30,
   "metadata": {},
   "outputs": [],
   "source": [
    "from pyspark.sql import SparkSession \n",
    "from functools import reduce\n",
    "from pyspark.sql.functions import col, when, sum, avg, explode, split"
   ]
  },
  {
   "cell_type": "code",
   "execution_count": 15,
   "metadata": {},
   "outputs": [],
   "source": [
    "spark_session = SparkSession.builder.getOrCreate() "
   ]
  },
  {
   "cell_type": "markdown",
   "metadata": {},
   "source": [
    "# Q1\n",
    "Implement a PySpark script that applies transformations like filter and withColumn on a\n",
    "DataFrame."
   ]
  },
  {
   "cell_type": "code",
   "execution_count": 17,
   "metadata": {},
   "outputs": [
    {
     "name": "stdout",
     "output_type": "stream",
     "text": [
      "Original Dataframe:\n",
      "+---+-------------+---+-----------+------+\n",
      "| id|         name|age| department|salary|\n",
      "+---+-------------+---+-----------+------+\n",
      "|  1|     John Doe| 29|Engineering| 75000|\n",
      "|  2|   Jane Smith| 34|  Marketing| 68000|\n",
      "|  3|Emily Johnson| 45|    Finance| 90000|\n",
      "|  4|Michael Brown| 28|Engineering| 72000|\n",
      "|  5|  Linda Davis| 39|         HR| 71000|\n",
      "+---+-------------+---+-----------+------+\n",
      "\n",
      "Filtered DataFrame (Age > 30):\n",
      "+---+-------------+---+----------+------+\n",
      "| id|         name|age|department|salary|\n",
      "+---+-------------+---+----------+------+\n",
      "|  2|   Jane Smith| 34| Marketing| 68000|\n",
      "|  3|Emily Johnson| 45|   Finance| 90000|\n",
      "|  5|  Linda Davis| 39|        HR| 71000|\n",
      "+---+-------------+---+----------+------+\n",
      "\n",
      "DataFrame with Age Category:\n",
      "+---+-------------+---+-----------+------+------------+\n",
      "| id|         name|age| department|salary|Age Category|\n",
      "+---+-------------+---+-----------+------+------------+\n",
      "|  1|     John Doe| 29|Engineering| 75000|       Adult|\n",
      "|  2|   Jane Smith| 34|  Marketing| 68000|       Adult|\n",
      "|  3|Emily Johnson| 45|    Finance| 90000|      Senior|\n",
      "|  4|Michael Brown| 28|Engineering| 72000|       Adult|\n",
      "|  5|  Linda Davis| 39|         HR| 71000|       Adult|\n",
      "+---+-------------+---+-----------+------+------------+\n",
      "\n"
     ]
    }
   ],
   "source": [
    "df=csv_file = spark_session.read.csv( \n",
    "        'data.csv', \n",
    "        sep = ',', inferSchema = True, \n",
    "        header = True)\n",
    "print(\"Original Dataframe:\")\n",
    "df.show()\n",
    "\n",
    "filtered_df = df.filter(col(\"age\") > 30)\n",
    "print(\"Filtered DataFrame (Age > 30):\")\n",
    "filtered_df.show()\n",
    "\n",
    "df_with_age_category = df.withColumn(\n",
    "    \"Age Category\",\n",
    "    when(col(\"Age\") > 40, \"Senior\")\n",
    "    .otherwise(\"Adult\")\n",
    ")\n",
    "print(\"DataFrame with Age Category:\")\n",
    "df_with_age_category.show()"
   ]
  },
  {
   "cell_type": "markdown",
   "metadata": {},
   "source": [
    "# Q2\n",
    "Write a PySpark script that performs actions like count and show on a DataFrame."
   ]
  },
  {
   "cell_type": "code",
   "execution_count": 19,
   "metadata": {},
   "outputs": [
    {
     "name": "stdout",
     "output_type": "stream",
     "text": [
      "DataFrame:\n",
      "+---+-------------+---+-----------+------+\n",
      "| id|         name|age| department|salary|\n",
      "+---+-------------+---+-----------+------+\n",
      "|  1|     John Doe| 29|Engineering| 75000|\n",
      "|  2|   Jane Smith| 34|  Marketing| 68000|\n",
      "|  3|Emily Johnson| 45|    Finance| 90000|\n",
      "|  4|Michael Brown| 28|Engineering| 72000|\n",
      "|  5|  Linda Davis| 39|         HR| 71000|\n",
      "+---+-------------+---+-----------+------+\n",
      "\n",
      "Number of rows in DataFrame: 5\n"
     ]
    }
   ],
   "source": [
    "print(\"DataFrame:\")\n",
    "df.show()\n",
    "\n",
    "row_count = df.count()\n",
    "print(f\"Number of rows in DataFrame: {row_count}\")\n"
   ]
  },
  {
   "cell_type": "markdown",
   "metadata": {},
   "source": [
    "# Q3\n",
    "Demonstrate how to perform basic aggregations (e.g., sum, average) on a PySpark\n",
    "DataFrame."
   ]
  },
  {
   "cell_type": "code",
   "execution_count": 24,
   "metadata": {},
   "outputs": [
    {
     "name": "stdout",
     "output_type": "stream",
     "text": [
      "Aggregation Results:\n",
      "+------------+--------------+\n",
      "|Total_Salary|Average_Salary|\n",
      "+------------+--------------+\n",
      "|      376000|       75200.0|\n",
      "+------------+--------------+\n",
      "\n"
     ]
    }
   ],
   "source": [
    "aggregations = df.agg(\n",
    "    sum(col(\"salary\")).alias(\"Total_Salary\"),\n",
    "    avg(col(\"salary\")).alias(\"Average_Salary\")\n",
    ")\n",
    "\n",
    "# Show the aggregation results\n",
    "print(\"Aggregation Results:\")\n",
    "aggregations.show()"
   ]
  },
  {
   "cell_type": "markdown",
   "metadata": {},
   "source": [
    "# Q4\n",
    "Show how to write a PySpark DataFrame to a CSV file."
   ]
  },
  {
   "cell_type": "code",
   "execution_count": 26,
   "metadata": {},
   "outputs": [
    {
     "name": "stdout",
     "output_type": "stream",
     "text": [
      "DataFrame written to CSV file at: output_data.csv\n"
     ]
    }
   ],
   "source": [
    "output_path = \"output_data.csv\"\n",
    "df.write.mode(\"overwrite\").csv(output_path, header=True)\n",
    "\n",
    "print(f\"DataFrame written to CSV file at: {output_path}\")"
   ]
  },
  {
   "cell_type": "markdown",
   "metadata": {},
   "source": [
    "# Q5\n",
    "Implement wordcount program in PySpark."
   ]
  },
  {
   "cell_type": "code",
   "execution_count": 40,
   "metadata": {},
   "outputs": [
    {
     "name": "stdout",
     "output_type": "stream",
     "text": [
      "Word Count:\n",
      "+-------------+-----+\n",
      "|         word|count|\n",
      "+-------------+-----+\n",
      "|        eros.|    1|\n",
      "|    porttitor|    3|\n",
      "|    eleifend.|    1|\n",
      "|        curae|    1|\n",
      "|         odio|    4|\n",
      "|     volutpat|    2|\n",
      "|     sociosqu|    1|\n",
      "|     interdum|    2|\n",
      "|      pretium|    2|\n",
      "|    himenaeos|    1|\n",
      "|         odor|    1|\n",
      "|          Sem|    1|\n",
      "|    hendrerit|    3|\n",
      "|     sagittis|    4|\n",
      "|pellentesque.|    1|\n",
      "|       curae.|    1|\n",
      "|        netus|    2|\n",
      "|       morbi.|    1|\n",
      "|        lorem|    1|\n",
      "|          nam|    1|\n",
      "+-------------+-----+\n",
      "only showing top 20 rows\n",
      "\n"
     ]
    }
   ],
   "source": [
    "input_path = 'file.txt'\n",
    "df = spark_session.read.text(input_path)\n",
    "\n",
    "words_df = df.withColumn(\"word\", explode(split(col(\"value\"), \" \")))\n",
    "\n",
    "word_count_df = words_df.groupBy(\"word\").count()\n",
    "\n",
    "print(\"Word Count:\")\n",
    "word_count_df.show()"
   ]
  },
  {
   "cell_type": "code",
   "execution_count": 42,
   "metadata": {},
   "outputs": [],
   "source": [
    "spark_session.stop()"
   ]
  },
  {
   "cell_type": "code",
   "execution_count": null,
   "metadata": {},
   "outputs": [],
   "source": []
  }
 ],
 "metadata": {
  "kernelspec": {
   "display_name": "Python 3 (ipykernel)",
   "language": "python",
   "name": "python3"
  },
  "language_info": {
   "codemirror_mode": {
    "name": "ipython",
    "version": 3
   },
   "file_extension": ".py",
   "mimetype": "text/x-python",
   "name": "python",
   "nbconvert_exporter": "python",
   "pygments_lexer": "ipython3",
   "version": "3.7.0"
  }
 },
 "nbformat": 4,
 "nbformat_minor": 2
}
