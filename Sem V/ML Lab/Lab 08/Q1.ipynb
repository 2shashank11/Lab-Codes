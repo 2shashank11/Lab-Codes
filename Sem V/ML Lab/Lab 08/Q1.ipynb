{
 "cells": [
  {
   "cell_type": "markdown",
   "id": "9585aca8",
   "metadata": {},
   "source": [
    "# Q1 A. Classification of Fruits\n",
    "\n",
    "You are provided with a dataset of fruits. Each fruit is characterized by two features: weight (in grams) and\n",
    "sweetness level (on a scale of 1 to 10). You want to classify a new fruit as either an \"Apple\" or an \"Orange\"\n",
    "based on these features using the KNN algorithm."
   ]
  },
  {
   "cell_type": "code",
   "execution_count": 17,
   "id": "53df9961",
   "metadata": {},
   "outputs": [],
   "source": [
    "import numpy as np\n",
    "import pandas as pd\n",
    "import matplotlib.pyplot as plt\n",
    "from collections import Counter"
   ]
  },
  {
   "cell_type": "code",
   "execution_count": 31,
   "id": "65d4123f",
   "metadata": {},
   "outputs": [
    {
     "data": {
      "text/html": [
       "<div>\n",
       "<style scoped>\n",
       "    .dataframe tbody tr th:only-of-type {\n",
       "        vertical-align: middle;\n",
       "    }\n",
       "\n",
       "    .dataframe tbody tr th {\n",
       "        vertical-align: top;\n",
       "    }\n",
       "\n",
       "    .dataframe thead th {\n",
       "        text-align: right;\n",
       "    }\n",
       "</style>\n",
       "<table border=\"1\" class=\"dataframe\">\n",
       "  <thead>\n",
       "    <tr style=\"text-align: right;\">\n",
       "      <th></th>\n",
       "      <th>weight</th>\n",
       "      <th>sweetness</th>\n",
       "      <th>label</th>\n",
       "      <th>label_num</th>\n",
       "    </tr>\n",
       "  </thead>\n",
       "  <tbody>\n",
       "    <tr>\n",
       "      <th>0</th>\n",
       "      <td>180</td>\n",
       "      <td>7</td>\n",
       "      <td>apple</td>\n",
       "      <td>0</td>\n",
       "    </tr>\n",
       "    <tr>\n",
       "      <th>1</th>\n",
       "      <td>200</td>\n",
       "      <td>6</td>\n",
       "      <td>apple</td>\n",
       "      <td>0</td>\n",
       "    </tr>\n",
       "    <tr>\n",
       "      <th>2</th>\n",
       "      <td>150</td>\n",
       "      <td>4</td>\n",
       "      <td>orange</td>\n",
       "      <td>1</td>\n",
       "    </tr>\n",
       "    <tr>\n",
       "      <th>3</th>\n",
       "      <td>170</td>\n",
       "      <td>5</td>\n",
       "      <td>orange</td>\n",
       "      <td>1</td>\n",
       "    </tr>\n",
       "    <tr>\n",
       "      <th>4</th>\n",
       "      <td>160</td>\n",
       "      <td>6</td>\n",
       "      <td>apple</td>\n",
       "      <td>0</td>\n",
       "    </tr>\n",
       "    <tr>\n",
       "      <th>5</th>\n",
       "      <td>140</td>\n",
       "      <td>3</td>\n",
       "      <td>orange</td>\n",
       "      <td>1</td>\n",
       "    </tr>\n",
       "  </tbody>\n",
       "</table>\n",
       "</div>"
      ],
      "text/plain": [
       "   weight  sweetness   label  label_num\n",
       "0     180          7   apple          0\n",
       "1     200          6   apple          0\n",
       "2     150          4  orange          1\n",
       "3     170          5  orange          1\n",
       "4     160          6   apple          0\n",
       "5     140          3  orange          1"
      ]
     },
     "execution_count": 31,
     "metadata": {},
     "output_type": "execute_result"
    }
   ],
   "source": [
    "data = {\n",
    "    'weight': [180, 200, 150, 170, 160, 140],\n",
    "    'sweetness': [7, 6, 4, 5, 6, 3],\n",
    "    'label': ['apple', 'apple','orange', 'orange', 'apple', 'orange']\n",
    "}\n",
    "\n",
    "df = pd.DataFrame(data)\n",
    "\n",
    "label_map = {'apple': 0, 'orange': 1}\n",
    "df['label_num'] = df['label'].map(label_map)\n",
    "\n",
    "df"
   ]
  },
  {
   "cell_type": "code",
   "execution_count": 37,
   "id": "2ccb90ca",
   "metadata": {},
   "outputs": [],
   "source": [
    "def euclidean_distance(point1, point2):\n",
    "    return np.sqrt(np.sum((point1 - point2) ** 2))\n",
    "\n",
    "def manhattan_distance(point1, point2):\n",
    "    return np.sum(np.abs(point1 - point2))\n",
    "\n",
    "def minkowski_distance(point1, point2, p):\n",
    "    return np.power(np.sum(np.abs(point1 - point2) ** p), 1/p)"
   ]
  },
  {
   "cell_type": "code",
   "execution_count": 38,
   "id": "0e64706e",
   "metadata": {},
   "outputs": [],
   "source": [
    "def knn(df, new_point, k=3):\n",
    "    distances = []\n",
    "    \n",
    "    for index, row in df.iterrows():\n",
    "        point = np.array([row['weight'], row['sweetness']])\n",
    "        distance = euclidean_distance(point, new_point)\n",
    "        distances.append((distance, row['label']))\n",
    "    \n",
    "    distances.sort(key=lambda x: x[0])\n",
    "    nearest_labels = [label for _, label in distances[:k]]\n",
    "    \n",
    "    most_common = Counter(nearest_labels).most_common(1)\n",
    "    return most_common[0][0]"
   ]
  },
  {
   "cell_type": "code",
   "execution_count": 40,
   "id": "181a7db6",
   "metadata": {},
   "outputs": [
    {
     "name": "stdout",
     "output_type": "stream",
     "text": [
      "The predicted label for the new fruit is: apple\n"
     ]
    }
   ],
   "source": [
    "new_fruit = np.array([165, 5.5])\n",
    "\n",
    "euclidean_distances = [euclidean_distance(np.array([row['weight'], row['sweetness']]), new_fruit) for index, row in df.iterrows()]\n",
    "manhattan_distances = [manhattan_distance(np.array([row['weight'], row['sweetness']]), new_fruit) for index, row in df.iterrows()]\n",
    "minkowski_distances = [minkowski_distance(np.array([row['weight'], row['sweetness']]), new_fruit, 3) for index, row in df.iterrows()]\n",
    "\n",
    "predicted_label = knn(df, new_fruit, k=3)\n",
    "print(f\"The predicted label for the new fruit is: {predicted_label}\")"
   ]
  },
  {
   "cell_type": "code",
   "execution_count": 35,
   "id": "1bd5de39",
   "metadata": {},
   "outputs": [
    {
     "name": "stdout",
     "output_type": "stream",
     "text": [
      "Predicted label with k=1: orange\n",
      "Predicted label with k=3: apple\n",
      "Predicted label with k=5: orange\n"
     ]
    }
   ],
   "source": [
    "for k in [1, 3, 5]:\n",
    "    predicted_label = knn(df, new_fruit, k=k)\n",
    "    print(f\"Predicted label with k={k}: {predicted_label}\")\n"
   ]
  },
  {
   "cell_type": "code",
   "execution_count": 39,
   "id": "0ee38ab4",
   "metadata": {},
   "outputs": [
    {
     "data": {
      "image/png": "[encoded data removed]",
      "text/plain": [
       "<Figure size 1000x600 with 1 Axes>"
      ]
     },
     "metadata": {},
     "output_type": "display_data"
    }
   ],
   "source": [
    "plt.figure(figsize=(10, 6))\n",
    "\n",
    "for index, row in df.iterrows():\n",
    "    if row['label'] == 'apple':\n",
    "        plt.scatter(row['weight'], row['sweetness'], color='red', label='Apple' if 'Apple' not in plt.gca().get_legend_handles_labels()[1] else \"\")\n",
    "    else:\n",
    "        plt.scatter(row['weight'], row['sweetness'], color='orange', label='Orange' if 'Orange' not in plt.gca().get_legend_handles_labels()[1] else \"\")\n",
    "\n",
    "plt.scatter(new_fruit[0], new_fruit[1], color='blue', marker='x', s=100, label='New Fruit')\n",
    "\n",
    "plt.xlabel('Weight')\n",
    "plt.ylabel('Sweetness')\n",
    "plt.title('Fruit Classification using k-NN')\n",
    "plt.legend()\n",
    "plt.grid()\n",
    "\n",
    "x_min, x_max = df['weight'].min() - 10, df['weight'].max() + 10\n",
    "y_min, y_max = df['sweetness'].min() - 1, df['sweetness'].max() + 1\n",
    "\n",
    "xx, yy = np.meshgrid(np.arange(x_min, x_max, 1), np.arange(y_min, y_max, 0.1))\n",
    "Z = np.array([knn(df, np.array([x, y]), k=3) for x, y in zip(np.ravel(xx), np.ravel(yy))])\n",
    "Z = np.array([label_map[label] for label in Z]).reshape(xx.shape) \n",
    "\n",
    "plt.contourf(xx, yy, Z, alpha=0.3, cmap='coolwarm', levels=[-0.5, 0.5, 1.5])\n",
    "plt.show()"
   ]
  },
  {
   "cell_type": "markdown",
   "id": "87432599",
   "metadata": {},
   "source": [
    "# Q2 B. Classification of Fruits\n",
    "\n",
    "Implement the Python code for Q-1. A using the scikit-learn library. Plot the given samples, using red for\n",
    "\"Apple\" and orange for \"Orange.\" Also, plot the decision boundary. Calculate the distances using Euclidean,\n",
    "Manhattan, and Minkowski metrics, and compare the results."
   ]
  },
  {
   "cell_type": "code",
   "execution_count": 43,
   "id": "7240e030",
   "metadata": {},
   "outputs": [
    {
     "name": "stdout",
     "output_type": "stream",
     "text": [
      "Predicted fruit: orange\n"
     ]
    },
    {
     "name": "stderr",
     "output_type": "stream",
     "text": [
      "/usr/lib/python3/dist-packages/sklearn/base.py:493: UserWarning: X does not have valid feature names, but KNeighborsClassifier was fitted with feature names\n",
      "  warnings.warn(\n"
     ]
    }
   ],
   "source": [
    "from sklearn.neighbors import KNeighborsClassifier\n",
    "\n",
    "X = df[['weight', 'sweetness']]\n",
    "y = df['label']\n",
    "\n",
    "knn = KNeighborsClassifier(n_neighbors=3)\n",
    "knn.fit(X, y)\n",
    "\n",
    "new_fruit = np.array([[165, 5.5]])\n",
    "predicted_label = knn.predict(new_fruit)\n",
    "print(f\"Predicted fruit: {predicted_label[0]}\")"
   ]
  },
  {
   "cell_type": "code",
   "execution_count": null,
   "id": "277d26c3",
   "metadata": {},
   "outputs": [],
   "source": []
  }
 ],
 "metadata": {
  "kernelspec": {
   "display_name": "Python 3 (ipykernel)",
   "language": "python",
   "name": "python3"
  },
  "language_info": {
   "codemirror_mode": {
    "name": "ipython",
    "version": 3
   },
   "file_extension": ".py",
   "mimetype": "text/x-python",
   "name": "python",
   "nbconvert_exporter": "python",
   "pygments_lexer": "ipython3",
   "version": "3.12.3"
  }
 },
 "nbformat": 4,
 "nbformat_minor": 5
}
