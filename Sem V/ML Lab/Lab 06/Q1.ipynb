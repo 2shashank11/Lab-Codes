{
 "cells": [
  {
   "cell_type": "markdown",
   "id": "50cb63da",
   "metadata": {},
   "source": [
    "# Q1\n",
    "\n",
    "Create the following data set for Experience and Salary in CSV. Applying SLR, explore the relationship between salary and experience with  exerience in x-axis and salary in y axis."
   ]
  },
  {
   "cell_type": "markdown",
   "id": "dbb13c28",
   "metadata": {},
   "source": [
    "## a.\n",
    "Check for various values of beta (slope) = 0.1, 1.5, and 0.8 with a fixed value of intercept i.e b=1.1. Plot the graph between beta and mean squared error(MSE) for each case."
   ]
  },
  {
   "cell_type": "code",
   "execution_count": 2,
   "id": "ade4f803",
   "metadata": {},
   "outputs": [],
   "source": [
    "import numpy as np\n",
    "import pandas as pd\n",
    "import matplotlib.pyplot as plt"
   ]
  },
  {
   "cell_type": "code",
   "execution_count": 63,
   "id": "61a7d0ad",
   "metadata": {},
   "outputs": [
    {
     "data": {
      "text/html": [
       "<div>\n",
       "<style scoped>\n",
       "    .dataframe tbody tr th:only-of-type {\n",
       "        vertical-align: middle;\n",
       "    }\n",
       "\n",
       "    .dataframe tbody tr th {\n",
       "        vertical-align: top;\n",
       "    }\n",
       "\n",
       "    .dataframe thead th {\n",
       "        text-align: right;\n",
       "    }\n",
       "</style>\n",
       "<table border=\"1\" class=\"dataframe\">\n",
       "  <thead>\n",
       "    <tr style=\"text-align: right;\">\n",
       "      <th></th>\n",
       "      <th>experience</th>\n",
       "      <th>salary</th>\n",
       "    </tr>\n",
       "  </thead>\n",
       "  <tbody>\n",
       "    <tr>\n",
       "      <th>0</th>\n",
       "      <td>1.2</td>\n",
       "      <td>1.7</td>\n",
       "    </tr>\n",
       "    <tr>\n",
       "      <th>1</th>\n",
       "      <td>1.5</td>\n",
       "      <td>2.4</td>\n",
       "    </tr>\n",
       "    <tr>\n",
       "      <th>2</th>\n",
       "      <td>1.9</td>\n",
       "      <td>2.3</td>\n",
       "    </tr>\n",
       "    <tr>\n",
       "      <th>3</th>\n",
       "      <td>2.2</td>\n",
       "      <td>3.1</td>\n",
       "    </tr>\n",
       "    <tr>\n",
       "      <th>4</th>\n",
       "      <td>2.4</td>\n",
       "      <td>3.7</td>\n",
       "    </tr>\n",
       "    <tr>\n",
       "      <th>5</th>\n",
       "      <td>2.5</td>\n",
       "      <td>4.2</td>\n",
       "    </tr>\n",
       "    <tr>\n",
       "      <th>6</th>\n",
       "      <td>2.8</td>\n",
       "      <td>4.4</td>\n",
       "    </tr>\n",
       "    <tr>\n",
       "      <th>7</th>\n",
       "      <td>3.1</td>\n",
       "      <td>6.1</td>\n",
       "    </tr>\n",
       "    <tr>\n",
       "      <th>8</th>\n",
       "      <td>3.3</td>\n",
       "      <td>5.4</td>\n",
       "    </tr>\n",
       "    <tr>\n",
       "      <th>9</th>\n",
       "      <td>3.7</td>\n",
       "      <td>5.7</td>\n",
       "    </tr>\n",
       "    <tr>\n",
       "      <th>10</th>\n",
       "      <td>4.2</td>\n",
       "      <td>6.4</td>\n",
       "    </tr>\n",
       "    <tr>\n",
       "      <th>11</th>\n",
       "      <td>4.4</td>\n",
       "      <td>6.2</td>\n",
       "    </tr>\n",
       "  </tbody>\n",
       "</table>\n",
       "</div>"
      ],
      "text/plain": [
       "    experience  salary\n",
       "0          1.2     1.7\n",
       "1          1.5     2.4\n",
       "2          1.9     2.3\n",
       "3          2.2     3.1\n",
       "4          2.4     3.7\n",
       "5          2.5     4.2\n",
       "6          2.8     4.4\n",
       "7          3.1     6.1\n",
       "8          3.3     5.4\n",
       "9          3.7     5.7\n",
       "10         4.2     6.4\n",
       "11         4.4     6.2"
      ]
     },
     "execution_count": 63,
     "metadata": {},
     "output_type": "execute_result"
    }
   ],
   "source": [
    "data = {\n",
    "    \"experience\" : [1.2, 1.5, 1.9, 2.2, 2.4, 2.5, 2.8, 3.1, 3.3, 3.7, 4.2, 4.4],\n",
    "    \"salary\" : [1.7, 2.4, 2.3, 3.1, 3.7, 4.2, 4.4, 6.1, 5.4, 5.7, 6.4, 6.2]\n",
    "}\n",
    "df = pd.DataFrame(data)\n",
    "df.to_csv('salary.csv', index=False)\n",
    "df"
   ]
  },
  {
   "cell_type": "code",
   "execution_count": 23,
   "id": "839e7124",
   "metadata": {},
   "outputs": [
    {
     "name": "stdout",
     "output_type": "stream",
     "text": [
      "b0:  -0.03563861094761833\n",
      "b1:  1.5670982931135966\n"
     ]
    }
   ],
   "source": [
    "n = len(df)\n",
    "X = df['experience']\n",
    "y = df['salary']\n",
    "\n",
    "x_mean = np.mean(X)\n",
    "y_mean = np.mean(y)\n",
    "\n",
    "b1 = (np.sum((X-x_mean)*(y-y_mean)))/np.sum((X-x_mean)**2)\n",
    "b0 = y_mean-x_mean*b1\n",
    "\n",
    "print(\"b0: \", b0)\n",
    "print(\"b1: \", b1)"
   ]
  },
  {
   "cell_type": "code",
   "execution_count": 24,
   "id": "5a5f8293",
   "metadata": {},
   "outputs": [
    {
     "data": {
      "text/html": [
       "<div>\n",
       "<style scoped>\n",
       "    .dataframe tbody tr th:only-of-type {\n",
       "        vertical-align: middle;\n",
       "    }\n",
       "\n",
       "    .dataframe tbody tr th {\n",
       "        vertical-align: top;\n",
       "    }\n",
       "\n",
       "    .dataframe thead th {\n",
       "        text-align: right;\n",
       "    }\n",
       "</style>\n",
       "<table border=\"1\" class=\"dataframe\">\n",
       "  <thead>\n",
       "    <tr style=\"text-align: right;\">\n",
       "      <th></th>\n",
       "      <th>X</th>\n",
       "      <th>y</th>\n",
       "      <th>y_pred</th>\n",
       "      <th>error</th>\n",
       "    </tr>\n",
       "  </thead>\n",
       "  <tbody>\n",
       "    <tr>\n",
       "      <th>0</th>\n",
       "      <td>1.2</td>\n",
       "      <td>1.7</td>\n",
       "      <td>1.844879</td>\n",
       "      <td>-0.144879</td>\n",
       "    </tr>\n",
       "    <tr>\n",
       "      <th>1</th>\n",
       "      <td>1.5</td>\n",
       "      <td>2.4</td>\n",
       "      <td>2.315009</td>\n",
       "      <td>0.084991</td>\n",
       "    </tr>\n",
       "    <tr>\n",
       "      <th>2</th>\n",
       "      <td>1.9</td>\n",
       "      <td>2.3</td>\n",
       "      <td>2.941848</td>\n",
       "      <td>-0.641848</td>\n",
       "    </tr>\n",
       "    <tr>\n",
       "      <th>3</th>\n",
       "      <td>2.2</td>\n",
       "      <td>3.1</td>\n",
       "      <td>3.411978</td>\n",
       "      <td>-0.311978</td>\n",
       "    </tr>\n",
       "    <tr>\n",
       "      <th>4</th>\n",
       "      <td>2.4</td>\n",
       "      <td>3.7</td>\n",
       "      <td>3.725397</td>\n",
       "      <td>-0.025397</td>\n",
       "    </tr>\n",
       "    <tr>\n",
       "      <th>5</th>\n",
       "      <td>2.5</td>\n",
       "      <td>4.2</td>\n",
       "      <td>3.882107</td>\n",
       "      <td>0.317893</td>\n",
       "    </tr>\n",
       "    <tr>\n",
       "      <th>6</th>\n",
       "      <td>2.8</td>\n",
       "      <td>4.4</td>\n",
       "      <td>4.352237</td>\n",
       "      <td>0.047763</td>\n",
       "    </tr>\n",
       "    <tr>\n",
       "      <th>7</th>\n",
       "      <td>3.1</td>\n",
       "      <td>6.1</td>\n",
       "      <td>4.822366</td>\n",
       "      <td>1.277634</td>\n",
       "    </tr>\n",
       "    <tr>\n",
       "      <th>8</th>\n",
       "      <td>3.3</td>\n",
       "      <td>5.4</td>\n",
       "      <td>5.135786</td>\n",
       "      <td>0.264214</td>\n",
       "    </tr>\n",
       "    <tr>\n",
       "      <th>9</th>\n",
       "      <td>3.7</td>\n",
       "      <td>5.7</td>\n",
       "      <td>5.762625</td>\n",
       "      <td>-0.062625</td>\n",
       "    </tr>\n",
       "    <tr>\n",
       "      <th>10</th>\n",
       "      <td>4.2</td>\n",
       "      <td>6.4</td>\n",
       "      <td>6.546174</td>\n",
       "      <td>-0.146174</td>\n",
       "    </tr>\n",
       "    <tr>\n",
       "      <th>11</th>\n",
       "      <td>4.4</td>\n",
       "      <td>6.2</td>\n",
       "      <td>6.859594</td>\n",
       "      <td>-0.659594</td>\n",
       "    </tr>\n",
       "  </tbody>\n",
       "</table>\n",
       "</div>"
      ],
      "text/plain": [
       "      X    y    y_pred     error\n",
       "0   1.2  1.7  1.844879 -0.144879\n",
       "1   1.5  2.4  2.315009  0.084991\n",
       "2   1.9  2.3  2.941848 -0.641848\n",
       "3   2.2  3.1  3.411978 -0.311978\n",
       "4   2.4  3.7  3.725397 -0.025397\n",
       "5   2.5  4.2  3.882107  0.317893\n",
       "6   2.8  4.4  4.352237  0.047763\n",
       "7   3.1  6.1  4.822366  1.277634\n",
       "8   3.3  5.4  5.135786  0.264214\n",
       "9   3.7  5.7  5.762625 -0.062625\n",
       "10  4.2  6.4  6.546174 -0.146174\n",
       "11  4.4  6.2  6.859594 -0.659594"
      ]
     },
     "execution_count": 24,
     "metadata": {},
     "output_type": "execute_result"
    }
   ],
   "source": [
    "y_pred = b0 + b1*X\n",
    "error = y-y_pred\n",
    "y_pred_df = pd.DataFrame({'X': X, 'y': y, 'y_pred': y_pred, 'error': y-y_pred})\n",
    "y_pred_df"
   ]
  },
  {
   "cell_type": "code",
   "execution_count": 27,
   "id": "21bec28c",
   "metadata": {},
   "outputs": [
    {
     "name": "stdout",
     "output_type": "stream",
     "text": [
      "MSE:  0.23366710810280555\n",
      "RMSE:  0.48339125778483577\n"
     ]
    }
   ],
   "source": [
    "MSE = np.sum(error**2)/n\n",
    "RMSE = np.sqrt(MSE)\n",
    "\n",
    "print(\"MSE: \", MSE)\n",
    "print(\"RMSE: \", RMSE)"
   ]
  },
  {
   "cell_type": "code",
   "execution_count": 29,
   "id": "a605fa5b",
   "metadata": {},
   "outputs": [
    {
     "data": {
      "image/png": "[encoded data removed]",
      "text/plain": [
       "<Figure size 640x480 with 1 Axes>"
      ]
     },
     "metadata": {},
     "output_type": "display_data"
    }
   ],
   "source": [
    "plt.plot(X, y_pred, color='green')\n",
    "plt.scatter(X, y, color='red')\n",
    "plt.xlabel(\"Experience\")\n",
    "plt.ylabel(\"Salary\")\n",
    "plt.show()"
   ]
  },
  {
   "cell_type": "code",
   "execution_count": 38,
   "id": "24ff781e",
   "metadata": {},
   "outputs": [
    {
     "data": {
      "image/png": "[encoded data removed]",
      "text/plain": [
       "<Figure size 640x480 with 1 Axes>"
      ]
     },
     "metadata": {},
     "output_type": "display_data"
    }
   ],
   "source": [
    "intercept = 1.1\n",
    "slope = [0.1, 0.8, 1.5]\n",
    "MSE_varied=[]\n",
    "\n",
    "for i in range(len(slope)):\n",
    "    y_pred_new = intercept + slope[i]*X\n",
    "    mse_new = np.sum((y-y_pred_new)**2/n)\n",
    "    MSE_varied.append(mse_new)\n",
    "    if mse_new<least_mse:\n",
    "        least_mse = mse_new\n",
    "        best_slope = slope[i]\n",
    "\n",
    "plt.plot(slope, MSE_varied, color='green')\n",
    "plt.xlabel(\"slope\")\n",
    "plt.ylabel(\"MSE\")\n",
    "plt.show()"
   ]
  },
  {
   "cell_type": "markdown",
   "id": "1030bf4f",
   "metadata": {},
   "source": [
    "## b.\n",
    "Try with beta between 0 to 1.5 with an increment of 0.01 keeping b (intercept) as constant and Plot the graph between beta and mean squared error(MSE). "
   ]
  },
  {
   "cell_type": "code",
   "execution_count": 50,
   "id": "de9f6077",
   "metadata": {},
   "outputs": [
    {
     "data": {
      "image/png": "[encoded data removed]",
      "text/plain": [
       "<Figure size 640x480 with 1 Axes>"
      ]
     },
     "metadata": {},
     "output_type": "display_data"
    },
    {
     "name": "stdout",
     "output_type": "stream",
     "text": [
      "Best slope 1.2\n",
      "Least MSE:  0.3752666666666666\n",
      "Intercept:  0.9799999999999995\n"
     ]
    }
   ],
   "source": [
    "intercept = 1.1\n",
    "slope = np.arange(0, 1.5, 0.01)\n",
    "MSE_varied=[]\n",
    "least_mse = 10**5\n",
    "best_slope=0\n",
    "\n",
    "for i in range(len(slope)):\n",
    "    y_pred_new = intercept + slope[i]*X\n",
    "    mse_new = np.sum((y-y_pred_new)**2/n)\n",
    "    MSE_varied.append(mse_new)\n",
    "    if mse_new<least_mse:\n",
    "        least_mse = mse_new\n",
    "        best_slope = slope[i]\n",
    "\n",
    "plt.plot(slope, MSE_varied, color='green')\n",
    "plt.xlabel(\"slope\")\n",
    "plt.ylabel(\"MSE\")\n",
    "plt.show()\n",
    "\n",
    "print(\"Best slope\", best_slope)\n",
    "print(\"Least MSE: \", least_mse)\n",
    "print(\"Intercept: \", y_mean-x_mean*best_slope)"
   ]
  },
  {
   "cell_type": "markdown",
   "id": "19aa55df",
   "metadata": {},
   "source": [
    "## c.\n",
    "Try with different values of intercept for slope beta  between 0 to 1.5 with an increment of 0.01. Plot the graph between beta and mean squared error(MSE)."
   ]
  },
  {
   "cell_type": "code",
   "execution_count": 49,
   "id": "03ad8be0",
   "metadata": {},
   "outputs": [
    {
     "data": {
      "image/png": "[encoded data removed]",
      "text/plain": [
       "<Figure size 640x480 with 1 Axes>"
      ]
     },
     "metadata": {},
     "output_type": "display_data"
    }
   ],
   "source": [
    "intercept = y_mean-x_mean*best_slope\n",
    "slope = np.arange(0, 1.5, 0.01)\n",
    "MSE_varied=[]\n",
    "\n",
    "for i in range(len(slope)):\n",
    "    y_pred_new = intercept + slope[i]*X\n",
    "    MSE_varied.append(np.sum((y-y_pred_new)**2/n))\n",
    "\n",
    "plt.plot(slope, MSE_varied, color='green')\n",
    "plt.xlabel(\"slope\")\n",
    "plt.ylabel(\"MSE\")\n",
    "plt.show()"
   ]
  },
  {
   "cell_type": "markdown",
   "id": "0dc6d030",
   "metadata": {},
   "source": [
    "## d. \n",
    "Use the scikit learn and compare the results of MSE."
   ]
  },
  {
   "cell_type": "code",
   "execution_count": 62,
   "id": "1a9c922d",
   "metadata": {},
   "outputs": [
    {
     "name": "stdout",
     "output_type": "stream",
     "text": [
      "b0: 1.7763568394002505e-15\n",
      "b1: 0.9999999999999997\n",
      "MSE: 0.23366710810280555\n"
     ]
    }
   ],
   "source": [
    "from sklearn.linear_model import LinearRegression\n",
    "from sklearn.metrics import mean_squared_error\n",
    "\n",
    "model = LinearRegression()\n",
    "\n",
    "X = df[['experience']].values\n",
    "X = df[['salary']].values\n",
    "\n",
    "model.fit(X, y)\n",
    "\n",
    "Sb0 = model.intercept_\n",
    "Sb1 = model.coef_[0]\n",
    "\n",
    "mse = mean_squared_error(y, y_pred)\n",
    "\n",
    "print(f\"b0: {Sb0}\")\n",
    "print(f\"b1: {Sb1}\")\n",
    "print(f\"MSE: {mse}\")"
   ]
  },
  {
   "cell_type": "code",
   "execution_count": null,
   "id": "b9e4df45",
   "metadata": {},
   "outputs": [],
   "source": []
  }
 ],
 "metadata": {
  "kernelspec": {
   "display_name": "Python 3 (ipykernel)",
   "language": "python",
   "name": "python3"
  },
  "language_info": {
   "codemirror_mode": {
    "name": "ipython",
    "version": 3
   },
   "file_extension": ".py",
   "mimetype": "text/x-python",
   "name": "python",
   "nbconvert_exporter": "python",
   "pygments_lexer": "ipython3",
   "version": "3.12.3"
  }
 },
 "nbformat": 4,
 "nbformat_minor": 5
}
