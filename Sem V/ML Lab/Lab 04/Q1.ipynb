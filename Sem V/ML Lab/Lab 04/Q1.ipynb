{
 "cells": [
  {
   "cell_type": "code",
   "execution_count": 24,
   "id": "d040276c",
   "metadata": {},
   "outputs": [],
   "source": [
    "import pandas as pd\n",
    "import numpy as np\n",
    "import matplotlib.pyplot as plt"
   ]
  },
  {
   "cell_type": "markdown",
   "id": "ee3a28d3",
   "metadata": {},
   "source": [
    "# Q1\n",
    "The data set of size n = 15 (Yield data) contains measurements of yield from an experiment done at\n",
    "five different temperature levels. The variables are y = yield and x = temperature in degrees Fahrenheit.\n",
    "\n",
    "a. Create a CSV file with sample data.\n",
    "\n",
    "b. Write a Python function program to:\n",
    "Find the fitted simple linear and polynomial regression equations for the given data.\n",
    "\n",
    "c. Compare the coefficients obtained from manually intuitive and matrix formulation methods with\n",
    "your program.\n",
    "\n",
    "d. Plot the scatterplot of the raw data and then another scatterplot with lines pertaining to a linear fit\n",
    "and a quadratic fit overlayed.\n",
    "\n",
    "e. Compute the error, MSE, and RMSE."
   ]
  },
  {
   "cell_type": "code",
   "execution_count": 2,
   "id": "719b1834",
   "metadata": {},
   "outputs": [
    {
     "data": {
      "text/html": [
       "<div>\n",
       "<style scoped>\n",
       "    .dataframe tbody tr th:only-of-type {\n",
       "        vertical-align: middle;\n",
       "    }\n",
       "\n",
       "    .dataframe tbody tr th {\n",
       "        vertical-align: top;\n",
       "    }\n",
       "\n",
       "    .dataframe thead th {\n",
       "        text-align: right;\n",
       "    }\n",
       "</style>\n",
       "<table border=\"1\" class=\"dataframe\">\n",
       "  <thead>\n",
       "    <tr style=\"text-align: right;\">\n",
       "      <th></th>\n",
       "      <th>Temp.</th>\n",
       "      <th>Yield</th>\n",
       "    </tr>\n",
       "  </thead>\n",
       "  <tbody>\n",
       "    <tr>\n",
       "      <th>0</th>\n",
       "      <td>50</td>\n",
       "      <td>3.3</td>\n",
       "    </tr>\n",
       "    <tr>\n",
       "      <th>1</th>\n",
       "      <td>50</td>\n",
       "      <td>2.8</td>\n",
       "    </tr>\n",
       "    <tr>\n",
       "      <th>2</th>\n",
       "      <td>50</td>\n",
       "      <td>2.9</td>\n",
       "    </tr>\n",
       "    <tr>\n",
       "      <th>3</th>\n",
       "      <td>70</td>\n",
       "      <td>2.3</td>\n",
       "    </tr>\n",
       "    <tr>\n",
       "      <th>4</th>\n",
       "      <td>70</td>\n",
       "      <td>2.6</td>\n",
       "    </tr>\n",
       "    <tr>\n",
       "      <th>5</th>\n",
       "      <td>70</td>\n",
       "      <td>2.1</td>\n",
       "    </tr>\n",
       "    <tr>\n",
       "      <th>6</th>\n",
       "      <td>80</td>\n",
       "      <td>2.5</td>\n",
       "    </tr>\n",
       "    <tr>\n",
       "      <th>7</th>\n",
       "      <td>80</td>\n",
       "      <td>2.9</td>\n",
       "    </tr>\n",
       "    <tr>\n",
       "      <th>8</th>\n",
       "      <td>80</td>\n",
       "      <td>2.4</td>\n",
       "    </tr>\n",
       "    <tr>\n",
       "      <th>9</th>\n",
       "      <td>90</td>\n",
       "      <td>3.0</td>\n",
       "    </tr>\n",
       "    <tr>\n",
       "      <th>10</th>\n",
       "      <td>90</td>\n",
       "      <td>3.1</td>\n",
       "    </tr>\n",
       "    <tr>\n",
       "      <th>11</th>\n",
       "      <td>90</td>\n",
       "      <td>2.8</td>\n",
       "    </tr>\n",
       "    <tr>\n",
       "      <th>12</th>\n",
       "      <td>100</td>\n",
       "      <td>3.3</td>\n",
       "    </tr>\n",
       "    <tr>\n",
       "      <th>13</th>\n",
       "      <td>100</td>\n",
       "      <td>3.5</td>\n",
       "    </tr>\n",
       "    <tr>\n",
       "      <th>14</th>\n",
       "      <td>100</td>\n",
       "      <td>3.0</td>\n",
       "    </tr>\n",
       "  </tbody>\n",
       "</table>\n",
       "</div>"
      ],
      "text/plain": [
       "    Temp.  Yield\n",
       "0      50    3.3\n",
       "1      50    2.8\n",
       "2      50    2.9\n",
       "3      70    2.3\n",
       "4      70    2.6\n",
       "5      70    2.1\n",
       "6      80    2.5\n",
       "7      80    2.9\n",
       "8      80    2.4\n",
       "9      90    3.0\n",
       "10     90    3.1\n",
       "11     90    2.8\n",
       "12    100    3.3\n",
       "13    100    3.5\n",
       "14    100    3.0"
      ]
     },
     "execution_count": 2,
     "metadata": {},
     "output_type": "execute_result"
    }
   ],
   "source": [
    "df=pd.read_csv('yield_data.csv')\n",
    "dfintuitive"
   ]
  },
  {
   "cell_type": "code",
   "execution_count": 5,
   "id": "133c1825",
   "metadata": {},
   "outputs": [],
   "source": [
    "X=df['Temp.']\n",
    "y=df['Yield']"
   ]
  },
  {
   "cell_type": "code",
   "execution_count": 51,
   "id": "22bcb20e",
   "metadata": {},
   "outputs": [],
   "source": [
    "n = len(X)\n",
    "x_mean = np.mean(X)\n",
    "y_mean = np.mean(y)\n",
    "xy_sum = np.sum(X * y)\n",
    "x_sum = np.sum(X)\n",
    "y_sum = np.sum(y)\n",
    "x_squared_sum = np.sum(X ** 2)\n",
    "x_cube_sum = np.sum(X ** 3)\n",
    "x_biquad_sum = np.sum(X ** 4)\n",
    "x2y_sum = np.sum((X**2)*y)"
   ]
  },
  {
   "cell_type": "markdown",
   "id": "f74989ff",
   "metadata": {},
   "source": [
    "## Linear Regression"
   ]
  },
  {
   "cell_type": "markdown",
   "id": "220991ea",
   "metadata": {},
   "source": [
    "### Intutive Method"
   ]
  },
  {
   "cell_type": "code",
   "execution_count": 47,
   "id": "7cbf72ee",
   "metadata": {},
   "outputs": [
    {
     "name": "stdout",
     "output_type": "stream",
     "text": [
      "B0 (intercept): 2.306306306306306\n",
      "B1 (slope): 0.006756756756756758\n"
     ]
    }
   ],
   "source": [
    "b1=(np.sum((X-x_mean)*(y-y_mean)))/(np.sum((X-x_mean)**2))\n",
    "b0=y_mean-b1*x_mean\n",
    "\n",
    "print(f'B0 (intercept): {b0}')\n",
    "print(f'B1 (slope): {b1}')"
   ]
  },
  {
   "cell_type": "markdown",
   "id": "01604871",
   "metadata": {},
   "source": [
    "### Matrix Method"
   ]
  },
  {
   "cell_type": "code",
   "execution_count": 44,
   "id": "abddc1d7",
   "metadata": {},
   "outputs": [
    {
     "name": "stdout",
     "output_type": "stream",
     "text": [
      "B0 (intercept): 2.3063063063062974\n",
      "B1 (slope): 0.006756756756756866\n"
     ]
    }
   ],
   "source": [
    "b1 = (n*xy_sum-x_sum*y_sum)/(n*x_squared_sum-(x_sum)**2)\n",
    "b0 = y_mean-b1*x_mean\n",
    "\n",
    "print(f'B0 (intercept): {b0}')\n",
    "print(f'B1 (slope): {b1}')"
   ]
  },
  {
   "cell_type": "code",
   "execution_count": 54,
   "id": "68a2b2d7",
   "metadata": {},
   "outputs": [
    {
     "data": {
      "text/html": [
       "<div>\n",
       "<style scoped>\n",
       "    .dataframe tbody tr th:only-of-type {\n",
       "        vertical-align: middle;\n",
       "    }\n",
       "\n",
       "    .dataframe tbody tr th {\n",
       "        vertical-align: top;\n",
       "    }\n",
       "\n",
       "    .dataframe thead th {\n",
       "        text-align: right;\n",
       "    }\n",
       "</style>\n",
       "<table border=\"1\" class=\"dataframe\">\n",
       "  <thead>\n",
       "    <tr style=\"text-align: right;\">\n",
       "      <th></th>\n",
       "      <th>Temp (X)</th>\n",
       "      <th>Predicted Yield (y)</th>\n",
       "    </tr>\n",
       "  </thead>\n",
       "  <tbody>\n",
       "    <tr>\n",
       "      <th>0</th>\n",
       "      <td>50</td>\n",
       "      <td>2.644144</td>\n",
       "    </tr>\n",
       "    <tr>\n",
       "      <th>1</th>\n",
       "      <td>50</td>\n",
       "      <td>2.644144</td>\n",
       "    </tr>\n",
       "    <tr>\n",
       "      <th>2</th>\n",
       "      <td>50</td>\n",
       "      <td>2.644144</td>\n",
       "    </tr>\n",
       "    <tr>\n",
       "      <th>3</th>\n",
       "      <td>70</td>\n",
       "      <td>2.779279</td>\n",
       "    </tr>\n",
       "    <tr>\n",
       "      <th>4</th>\n",
       "      <td>70</td>\n",
       "      <td>2.779279</td>\n",
       "    </tr>\n",
       "    <tr>\n",
       "      <th>5</th>\n",
       "      <td>70</td>\n",
       "      <td>2.779279</td>\n",
       "    </tr>\n",
       "    <tr>\n",
       "      <th>6</th>\n",
       "      <td>80</td>\n",
       "      <td>2.846847</td>\n",
       "    </tr>\n",
       "    <tr>\n",
       "      <th>7</th>\n",
       "      <td>80</td>\n",
       "      <td>2.846847</td>\n",
       "    </tr>\n",
       "    <tr>\n",
       "      <th>8</th>\n",
       "      <td>80</td>\n",
       "      <td>2.846847</td>\n",
       "    </tr>\n",
       "    <tr>\n",
       "      <th>9</th>\n",
       "      <td>90</td>\n",
       "      <td>2.914414</td>\n",
       "    </tr>\n",
       "    <tr>\n",
       "      <th>10</th>\n",
       "      <td>90</td>\n",
       "      <td>2.914414</td>\n",
       "    </tr>\n",
       "    <tr>\n",
       "      <th>11</th>\n",
       "      <td>90</td>\n",
       "      <td>2.914414</td>\n",
       "    </tr>\n",
       "    <tr>\n",
       "      <th>12</th>\n",
       "      <td>100</td>\n",
       "      <td>2.981982</td>\n",
       "    </tr>\n",
       "    <tr>\n",
       "      <th>13</th>\n",
       "      <td>100</td>\n",
       "      <td>2.981982</td>\n",
       "    </tr>\n",
       "    <tr>\n",
       "      <th>14</th>\n",
       "      <td>100</td>\n",
       "      <td>2.981982</td>\n",
       "    </tr>\n",
       "  </tbody>\n",
       "</table>\n",
       "</div>"
      ],
      "text/plain": [
       "    Temp (X)  Predicted Yield (y)\n",
       "0         50             2.644144\n",
       "1         50             2.644144\n",
       "2         50             2.644144\n",
       "3         70             2.779279\n",
       "4         70             2.779279\n",
       "5         70             2.779279\n",
       "6         80             2.846847\n",
       "7         80             2.846847\n",
       "8         80             2.846847\n",
       "9         90             2.914414\n",
       "10        90             2.914414\n",
       "11        90             2.914414\n",
       "12       100             2.981982\n",
       "13       100             2.981982\n",
       "14       100             2.981982"
      ]
     },
     "execution_count": 54,
     "metadata": {},
     "output_type": "execute_result"
    }
   ],
   "source": [
    "lin_y_pred = b0 + b1*X\n",
    "\n",
    "lin_predicted_df = pd.DataFrame({'Temp (X)': X, 'Predicted Yield (y)': lin_y_pred})\n",
    "lin_predicted_df"
   ]
  },
  {
   "cell_type": "markdown",
   "id": "b96a9f84",
   "metadata": {},
   "source": [
    "### Polynomial Regression"
   ]
  },
  {
   "cell_type": "code",
   "execution_count": 65,
   "id": "20bf3e14",
   "metadata": {},
   "outputs": [
    {
     "name": "stdout",
     "output_type": "stream",
     "text": [
      "A = [ 7.96048110e+00 -1.53711340e-01  1.07560137e-03]\n"
     ]
    }
   ],
   "source": [
    "polyX = np.array([[n, x_sum, x_squared_sum],\n",
    "         [x_sum, x_squared_sum, x_cube_sum],\n",
    "         [x_squared_sum, x_cube_sum, x_biquad_sum]])\n",
    "\n",
    "polyY=np.array([y_sum, xy_sum, x2y_sum])\n",
    "\n",
    "A = np.dot(np.linalg.inv(polyX), polyY)\n",
    "print(f'A = {A}')"
   ]
  },
  {
   "cell_type": "code",
   "execution_count": 57,
   "id": "45e803e8",
   "metadata": {},
   "outputs": [
    {
     "data": {
      "text/html": [
       "<div>\n",
       "<style scoped>\n",
       "    .dataframe tbody tr th:only-of-type {\n",
       "        vertical-align: middle;\n",
       "    }\n",
       "\n",
       "    .dataframe tbody tr th {\n",
       "        vertical-align: top;\n",
       "    }\n",
       "\n",
       "    .dataframe thead th {\n",
       "        text-align: right;\n",
       "    }\n",
       "</style>\n",
       "<table border=\"1\" class=\"dataframe\">\n",
       "  <thead>\n",
       "    <tr style=\"text-align: right;\">\n",
       "      <th></th>\n",
       "      <th>Temp (X)</th>\n",
       "      <th>Predicted Yield (y)</th>\n",
       "    </tr>\n",
       "  </thead>\n",
       "  <tbody>\n",
       "    <tr>\n",
       "      <th>0</th>\n",
       "      <td>50</td>\n",
       "      <td>2.963918</td>\n",
       "    </tr>\n",
       "    <tr>\n",
       "      <th>1</th>\n",
       "      <td>50</td>\n",
       "      <td>2.963918</td>\n",
       "    </tr>\n",
       "    <tr>\n",
       "      <th>2</th>\n",
       "      <td>50</td>\n",
       "      <td>2.963918</td>\n",
       "    </tr>\n",
       "    <tr>\n",
       "      <th>3</th>\n",
       "      <td>70</td>\n",
       "      <td>2.471134</td>\n",
       "    </tr>\n",
       "    <tr>\n",
       "      <th>4</th>\n",
       "      <td>70</td>\n",
       "      <td>2.471134</td>\n",
       "    </tr>\n",
       "    <tr>\n",
       "      <th>5</th>\n",
       "      <td>70</td>\n",
       "      <td>2.471134</td>\n",
       "    </tr>\n",
       "    <tr>\n",
       "      <th>6</th>\n",
       "      <td>80</td>\n",
       "      <td>2.547423</td>\n",
       "    </tr>\n",
       "    <tr>\n",
       "      <th>7</th>\n",
       "      <td>80</td>\n",
       "      <td>2.547423</td>\n",
       "    </tr>\n",
       "    <tr>\n",
       "      <th>8</th>\n",
       "      <td>80</td>\n",
       "      <td>2.547423</td>\n",
       "    </tr>\n",
       "    <tr>\n",
       "      <th>9</th>\n",
       "      <td>90</td>\n",
       "      <td>2.838832</td>\n",
       "    </tr>\n",
       "    <tr>\n",
       "      <th>10</th>\n",
       "      <td>90</td>\n",
       "      <td>2.838832</td>\n",
       "    </tr>\n",
       "    <tr>\n",
       "      <th>11</th>\n",
       "      <td>90</td>\n",
       "      <td>2.838832</td>\n",
       "    </tr>\n",
       "    <tr>\n",
       "      <th>12</th>\n",
       "      <td>100</td>\n",
       "      <td>3.345361</td>\n",
       "    </tr>\n",
       "    <tr>\n",
       "      <th>13</th>\n",
       "      <td>100</td>\n",
       "      <td>3.345361</td>\n",
       "    </tr>\n",
       "    <tr>\n",
       "      <th>14</th>\n",
       "      <td>100</td>\n",
       "      <td>3.345361</td>\n",
       "    </tr>\n",
       "  </tbody>\n",
       "</table>\n",
       "</div>"
      ],
      "text/plain": [
       "    Temp (X)  Predicted Yield (y)\n",
       "0         50             2.963918\n",
       "1         50             2.963918\n",
       "2         50             2.963918\n",
       "3         70             2.471134\n",
       "4         70             2.471134\n",
       "5         70             2.471134\n",
       "6         80             2.547423\n",
       "7         80             2.547423\n",
       "8         80             2.547423\n",
       "9         90             2.838832\n",
       "10        90             2.838832\n",
       "11        90             2.838832\n",
       "12       100             3.345361\n",
       "13       100             3.345361\n",
       "14       100             3.345361"
      ]
     },
     "execution_count": 57,
     "metadata": {},
     "output_type": "execute_result"
    }
   ],
   "source": [
    "a0=A[0]\n",
    "a1=A[1]\n",
    "a2=A[2]\n",
    "poly_y_pred= a0 + a1*X + a2*(X**2)\n",
    "\n",
    "poly_predicted_df = pd.DataFrame({'Temp (X)': X, 'Predicted Yield (y)': poly_y_pred})\n",
    "poly_predicted_df"
   ]
  },
  {
   "cell_type": "code",
   "execution_count": 64,
   "id": "a60d878a",
   "metadata": {},
   "outputs": [
    {
     "data": {
      "image/png": "[encoded data removed]",
      "text/plain": [
       "<Figure size 640x480 with 1 Axes>"
      ]
     },
     "metadata": {},
     "output_type": "display_data"
    }
   ],
   "source": [
    "plt.plot(X, lin_y_pred, label='Linear Regression', color='blue')\n",
    "plt.plot(X, poly_y_pred, label='Polynomial Regression', color='green')\n",
    "plt.scatter(X, y, color='red')\n",
    "\n",
    "plt.title('Linear vs Polynomial Regression')\n",
    "plt.xlabel('Temperature')\n",
    "plt.ylabel('Yield')\n",
    "plt.legend()\n",
    "plt.show()"
   ]
  },
  {
   "cell_type": "code",
   "execution_count": 67,
   "id": "eb18cbf5",
   "metadata": {},
   "outputs": [
    {
     "name": "stdout",
     "output_type": "stream",
     "text": [
      "MSE for Linear Regression: 0.13270870870870877\n",
      "MSE for Polynomial Regression: 0.04778465063001146\n"
     ]
    }
   ],
   "source": [
    "MSE_linear = np.sum((y-lin_y_pred)**2) / n\n",
    "MSE_poly = np.sum((y-poly_y_pred)**2) /n\n",
    "\n",
    "print(f\"MSE for Linear Regression: {MSE_linear}\")\n",
    "print(f\"MSE for Polynomial Regression: {MSE_poly}\")"
   ]
  },
  {
   "cell_type": "code",
   "execution_count": 68,
   "id": "d102fbd7",
   "metadata": {},
   "outputs": [
    {
     "name": "stdout",
     "output_type": "stream",
     "text": [
      "RMSE for Linear Regression: 0.36429206511905904\n",
      "RMSE for Polynomial Regression: 0.21859700508015076\n"
     ]
    }
   ],
   "source": [
    "RMSE_linear = np.sqrt(np.sum((y-lin_y_pred)**2) / n)\n",
    "RMSE_poly = np.sqrt(np.sum((y-poly_y_pred)**2) /n)\n",
    "\n",
    "print(f\"RMSE for Linear Regression: {RMSE_linear}\")\n",
    "print(f\"RMSE for Polynomial Regression: {RMSE_poly}\")"
   ]
  },
  {
   "cell_type": "code",
   "execution_count": null,
   "id": "c92455d1",
   "metadata": {},
   "outputs": [],
   "source": []
  }
 ],
 "metadata": {
  "kernelspec": {
   "display_name": "Python 3 (ipykernel)",
   "language": "python",
   "name": "python3"
  },
  "language_info": {
   "codemirror_mode": {
    "name": "ipython",
    "version": 3
   },
   "file_extension": ".py",
   "mimetype": "text/x-python",
   "name": "python",
   "nbconvert_exporter": "python",
   "pygments_lexer": "ipython3",
   "version": "3.12.3"
  }
 },
 "nbformat": 4,
 "nbformat_minor": 5
}
