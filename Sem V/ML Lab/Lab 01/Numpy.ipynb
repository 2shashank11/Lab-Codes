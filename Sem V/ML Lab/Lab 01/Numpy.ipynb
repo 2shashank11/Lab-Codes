{
 "cells": [
  {
   "cell_type": "code",
   "execution_count": 1,
   "id": "06763d27",
   "metadata": {},
   "outputs": [],
   "source": [
    "import numpy as np"
   ]
  },
  {
   "cell_type": "markdown",
   "id": "acb1a10c",
   "metadata": {},
   "source": [
    "# Q1\n",
    "Convert a 1-D array into a 2-D array with 3 rows."
   ]
  },
  {
   "cell_type": "code",
   "execution_count": 2,
   "id": "72cb82fb",
   "metadata": {},
   "outputs": [
    {
     "data": {
      "text/plain": [
       "array([[0, 1, 2],\n",
       "       [3, 4, 5],\n",
       "       [6, 7, 8]])"
      ]
     },
     "execution_count": 2,
     "metadata": {},
     "output_type": "execute_result"
    }
   ],
   "source": [
    "ary1=np.array([0, 1, 2, 3, 4, 5, 6, 7, 8])\n",
    "ary1.reshape(3, 3)"
   ]
  },
  {
   "cell_type": "markdown",
   "id": "c037eca1",
   "metadata": {},
   "source": [
    "# Q2\n",
    "Replace all odd numbers in the given array with -1"
   ]
  },
  {
   "cell_type": "code",
   "execution_count": 3,
   "id": "02b96fdc",
   "metadata": {},
   "outputs": [
    {
     "data": {
      "text/plain": [
       "array([ 0, -1,  2, -1,  4, -1,  6, -1,  8, -1])"
      ]
     },
     "execution_count": 3,
     "metadata": {},
     "output_type": "execute_result"
    }
   ],
   "source": [
    "ary2=np.array([0, 1, 2, 3, 4, 5, 6, 7, 8, 9])\n",
    "for i in range(len(ary2)):\n",
    "    if ary2[i]%2==1:\n",
    "        ary2[i]=-1\n",
    "ary2"
   ]
  },
  {
   "cell_type": "markdown",
   "id": "fa28cfb3",
   "metadata": {},
   "source": [
    "# Q3\n",
    "Find the positions of:\n",
    "\n",
    "elements in x where its value is more than its corresponding element in y, and elements in x where its value is equals to its corresponding element in y."
   ]
  },
  {
   "cell_type": "code",
   "execution_count": 4,
   "id": "e3dee91b",
   "metadata": {},
   "outputs": [
    {
     "name": "stdout",
     "output_type": "stream",
     "text": [
      "[1. 2. 4. 5. 6. 7. 8. 9.] and [0.]\n"
     ]
    }
   ],
   "source": [
    "x=np.array([21, 64, 86, 22, 74, 55, 81, 79, 90, 89])\n",
    "y=np.array([21, 7, 3, 45, 10, 29, 55, 4, 37, 18])\n",
    "\n",
    "a1=np.array([])\n",
    "a2=np.array([])\n",
    "for i in range(len(x)):\n",
    "    if x[i]>y[i]:\n",
    "        a1=np.append(a1, [i])\n",
    "    if x[i]==y[i]:\n",
    "        a2=np.append(a2, [i])\n",
    "print(a1, \"and\", a2)\n"
   ]
  },
  {
   "cell_type": "markdown",
   "id": "8c680813",
   "metadata": {},
   "source": [
    "# Q4\n",
    "Extract the first four columns of this 2-D array."
   ]
  },
  {
   "cell_type": "code",
   "execution_count": 5,
   "id": "1130fe31",
   "metadata": {},
   "outputs": [
    {
     "data": {
      "text/plain": [
       "array([[ 0,  1,  2,  3],\n",
       "       [20, 21, 22, 23],\n",
       "       [40, 41, 42, 43],\n",
       "       [60, 61, 62, 63],\n",
       "       [80, 81, 82, 83]])"
      ]
     },
     "execution_count": 5,
     "metadata": {},
     "output_type": "execute_result"
    }
   ],
   "source": [
    "ary4=np.arange(100).reshape(5, -1)\n",
    "ary4[::, :4]"
   ]
  },
  {
   "cell_type": "code",
   "execution_count": null,
   "id": "5f447983",
   "metadata": {},
   "outputs": [],
   "source": []
  },
  {
   "cell_type": "code",
   "execution_count": null,
   "id": "d3de3ba4",
   "metadata": {},
   "outputs": [],
   "source": []
  }
 ],
 "metadata": {
  "kernelspec": {
   "display_name": "Python 3 (ipykernel)",
   "language": "python",
   "name": "python3"
  },
  "language_info": {
   "codemirror_mode": {
    "name": "ipython",
    "version": 3
   },
   "file_extension": ".py",
   "mimetype": "text/x-python",
   "name": "python",
   "nbconvert_exporter": "python",
   "pygments_lexer": "ipython3",
   "version": "3.8.9"
  }
 },
 "nbformat": 4,
 "nbformat_minor": 5
}
