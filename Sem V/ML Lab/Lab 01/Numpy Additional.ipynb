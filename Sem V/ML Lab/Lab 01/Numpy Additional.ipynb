{
 "cells": [
  {
   "cell_type": "code",
   "execution_count": 3,
   "id": "8ac058bc",
   "metadata": {},
   "outputs": [],
   "source": [
    "import numpy as np"
   ]
  },
  {
   "cell_type": "markdown",
   "id": "980a35c1",
   "metadata": {},
   "source": [
    "# Q1\n",
    "Generate a 1-D array of 10 random integers. Each integer should be a number between 30 and 40 (inclusive)"
   ]
  },
  {
   "cell_type": "code",
   "execution_count": 8,
   "id": "d22b5f71",
   "metadata": {},
   "outputs": [
    {
     "data": {
      "text/plain": [
       "array([40, 39, 35, 32, 30, 36, 31, 40, 33, 35])"
      ]
     },
     "execution_count": 8,
     "metadata": {},
     "output_type": "execute_result"
    }
   ],
   "source": [
    "x=np.random.randint(30, 41, size=(10))\n",
    "x"
   ]
  },
  {
   "cell_type": "markdown",
   "id": "f7113f2e",
   "metadata": {},
   "source": [
    "# Q2\n",
    "Consider the following matrices :\n",
    "A= ((1, 2, 3), (4, 5, 6), (7, 8, 10)) and   B = ((7, 8, 10) ,(4, 5, 6), (1, 2, 3))\n",
    "Write a python program to perform the following using Numeric Python (numpy).\n",
    "\n"
   ]
  },
  {
   "cell_type": "markdown",
   "id": "db1a17e6",
   "metadata": {},
   "source": [
    "i) Add and Subtract of the Matrix A and B, print the resultant matrix C for add and E for subtract."
   ]
  },
  {
   "cell_type": "code",
   "execution_count": 9,
   "id": "7572734e",
   "metadata": {},
   "outputs": [],
   "source": [
    "a=[[1, 2, 3], [4, 5, 6], [7, 8, 10]]\n",
    "b=[[7, 8, 10], [4, 5, 6], [1, 2, 3]]"
   ]
  },
  {
   "cell_type": "code",
   "execution_count": 13,
   "id": "c08bce38",
   "metadata": {},
   "outputs": [
    {
     "data": {
      "text/plain": [
       "array([[ 8, 10, 13],\n",
       "       [ 8, 10, 12],\n",
       "       [ 8, 10, 13]])"
      ]
     },
     "execution_count": 13,
     "metadata": {},
     "output_type": "execute_result"
    }
   ],
   "source": [
    "c=np.add(a, b)\n",
    "c"
   ]
  },
  {
   "cell_type": "code",
   "execution_count": 16,
   "id": "576e16d4",
   "metadata": {},
   "outputs": [
    {
     "data": {
      "text/plain": [
       "array([[-6, -6, -7],\n",
       "       [ 0,  0,  0],\n",
       "       [ 6,  6,  7]])"
      ]
     },
     "execution_count": 16,
     "metadata": {},
     "output_type": "execute_result"
    }
   ],
   "source": [
    "e=np.subtract(a, b)\n",
    "e"
   ]
  },
  {
   "cell_type": "markdown",
   "id": "76e0a26a",
   "metadata": {},
   "source": [
    "ii) Compute the sum of all elements of Matrix A, sum of each column of Matrix B and sum of each row of Matrix C"
   ]
  },
  {
   "cell_type": "code",
   "execution_count": 26,
   "id": "544dc2f0",
   "metadata": {},
   "outputs": [
    {
     "name": "stdout",
     "output_type": "stream",
     "text": [
      "46\n",
      "[12 15 19]\n",
      "[31 30 31]\n"
     ]
    }
   ],
   "source": [
    "sumA=np.sum(a)\n",
    "sumB=np.sum(b, axis=0)\n",
    "sumC=np.sum(c, axis=1)\n",
    "print(sumA)\n",
    "print(sumB)\n",
    "print(sumC)"
   ]
  },
  {
   "cell_type": "markdown",
   "id": "93f8d1c8",
   "metadata": {},
   "source": [
    "iii) Product of two matrices A and B, and print the resultant matrix D"
   ]
  },
  {
   "cell_type": "code",
   "execution_count": 23,
   "id": "d3084734",
   "metadata": {},
   "outputs": [
    {
     "data": {
      "text/plain": [
       "array([[ 18,  24,  31],\n",
       "       [ 54,  69,  88],\n",
       "       [ 91, 116, 148]])"
      ]
     },
     "execution_count": 23,
     "metadata": {},
     "output_type": "execute_result"
    }
   ],
   "source": [
    "f=np.dot(a, b)\n",
    "f"
   ]
  },
  {
   "cell_type": "markdown",
   "id": "cbe035c6",
   "metadata": {},
   "source": [
    "iv) Sort the elements of resultant matrix C and print the resultant Matrix E."
   ]
  },
  {
   "cell_type": "code",
   "execution_count": 24,
   "id": "2697f5f6",
   "metadata": {},
   "outputs": [
    {
     "data": {
      "text/plain": [
       "array([[ 8, 10, 13],\n",
       "       [ 8, 10, 12],\n",
       "       [ 8, 10, 13]])"
      ]
     },
     "execution_count": 24,
     "metadata": {},
     "output_type": "execute_result"
    }
   ],
   "source": [
    "e=np.sort(c)\n",
    "e"
   ]
  },
  {
   "cell_type": "markdown",
   "id": "8a795c31",
   "metadata": {},
   "source": [
    "v) Transpose the Matrix E and print the result"
   ]
  },
  {
   "cell_type": "code",
   "execution_count": 30,
   "id": "9be81b51",
   "metadata": {},
   "outputs": [
    {
     "data": {
      "text/plain": [
       "array([[ 8,  8,  8],\n",
       "       [10, 10, 10],\n",
       "       [13, 12, 13]])"
      ]
     },
     "execution_count": 30,
     "metadata": {},
     "output_type": "execute_result"
    }
   ],
   "source": [
    "g=np.transpose(e)\n",
    "g"
   ]
  },
  {
   "cell_type": "code",
   "execution_count": null,
   "id": "3a25e015",
   "metadata": {},
   "outputs": [],
   "source": []
  }
 ],
 "metadata": {
  "kernelspec": {
   "display_name": "Python 3 (ipykernel)",
   "language": "python",
   "name": "python3"
  },
  "language_info": {
   "codemirror_mode": {
    "name": "ipython",
    "version": 3
   },
   "file_extension": ".py",
   "mimetype": "text/x-python",
   "name": "python",
   "nbconvert_exporter": "python",
   "pygments_lexer": "ipython3",
   "version": "3.12.3"
  }
 },
 "nbformat": 4,
 "nbformat_minor": 5
}
